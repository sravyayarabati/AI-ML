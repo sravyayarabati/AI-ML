{
 "cells": [
  {
   "cell_type": "markdown",
   "metadata": {},
   "source": [
    "# Practice Exercise – Preprocessing\n",
    "\n",
    "The first rule in preprocessing is: **know your data!**\n",
    "\n",
    "Therefore, you are going to explore your data over several dimensions and views to bring your raw data to a state of processed data, ready to be used for your model.\n",
    "\n",
    "The **TBLF** approach is suggested:\n",
    "+ **Try:** Explore the problem (in this case, explore your data)\n",
    "+ **Broken?:** What is broken? (Do you see something wrong in your data)\n",
    "+ **Learn:** Why is it wrong? (What is wrong with this data? How can you solve it?)\n",
    "+ **Fix:** Fix the problem (What can I do to bring the wrong data to an acceptable solution?)"
   ]
  },
  {
   "cell_type": "markdown",
   "metadata": {},
   "source": [
    "## Business scenario\n",
    "You are in charge of preprocessing the data your company wants to use in a new machine learning model. The model will be used to predict average influence of a journal, based on journal/publishing information coming from a variety of sources, including researchers, web scraping, and the publishers themselves.\n",
    "\n",
    "You've received raw data related to the business problem to solve. Your task is to better understand the data using some descriptive statistics. Once you understand the data, you will clean and reshape it. You will use the final processed dataset in your model. "
   ]
  },
  {
   "cell_type": "markdown",
   "metadata": {},
   "source": [
    "## Learning objectives\n",
    "1. Understand a business scenario and corresponding dataset by analyzing the data using descriptive statistics\n",
    "2. Use visualization tools to support this analysis: \n",
    "    - Scatter plots to spot correlations between features \n",
    "    - Box and whisker plots and histograms to understand the distribution of your data\n",
    "3. Use statistics tools to support previous analysis, such as a correlation matrix to quantify those relationships\n",
    "4. Based on the analysis conclusions, prepare a processed dataset for the model by:\n",
    "    - Dealing with outliers \n",
    "    - Dealing with missing values\n",
    "    - Cleaning the data"
   ]
  },
  {
   "cell_type": "code",
   "execution_count": 3,
   "metadata": {},
   "outputs": [],
   "source": [
    "%%capture\n",
    "#-U if not installed installed else upgrade\n",
    "#-q install quietly , dont want to see addition messages\n",
    "#-y confirmation for uninstall (y/n)\n",
    "%pip install -U pandas sparkmagic -q\n",
    "%pip uninstall matplotlib -y\n",
    "%pip uninstall seaborn -y\n",
    "%pip install matplotlib==3.6.1\n",
    "%pip install seaborn\n",
    "%matplotlib inline\n",
    "\n",
    "# restart the kernel to apply the changes\n",
    "from IPython.display import display_html\n",
    "display_html(\"<script>Jupyter.notebook.kernel.restart()</script>\",raw=True)"
   ]
  },
  {
   "cell_type": "markdown",
   "metadata": {},
   "source": [
    "After the kernel restarts, import your packages."
   ]
  },
  {
   "cell_type": "code",
   "execution_count": 4,
   "metadata": {},
   "outputs": [],
   "source": [
    "import pandas as pd\n",
    "import numpy as np\n",
    "from matplotlib import pyplot as plt\n",
    "import seaborn as sns\n",
    "\n",
    "pd.set_option('display.max_colwidth', None)"
   ]
  },
  {
   "cell_type": "markdown",
   "metadata": {},
   "source": [
    "## Dataset \n",
    "The data comes from a variety of sources, including researchers, web scraping, and the publishers themselves. The data has been manipulated to be suited for this preprocessing task."
   ]
  },
  {
   "cell_type": "markdown",
   "metadata": {},
   "source": [
    "## Data schema\n",
    "A dataset on journal/publisher information with estimated-article-influence-scores:\n",
    "+ journal_name: Name of the journal\n",
    "+ issn: Unique publication code\n",
    "+ citation_count_sum: Sum of the number of citations for each journal \n",
    "+ paper_count_sum: Sum of the number of papers for each journal\n",
    "+ avg_cites_per_paper: Average number of citations per paper\n",
    "+ ranking: Artificial label created for the exercise (possible values: A, B, C, D)\n",
    "+ proj_ai: Projected average influence"
   ]
  },
  {
   "cell_type": "markdown",
   "metadata": {},
   "source": [
    "Start by loading the file."
   ]
  },
  {
   "cell_type": "code",
   "execution_count": 6,
   "metadata": {},
   "outputs": [],
   "source": [
    "df_journals = pd.read_csv(\"estimated-article-influence-scores-Exerc2.csv\", sep=\";\")\n",
    "df_journals\n",
    "del df_journals[\"Unnamed: 0\"]"
   ]
  },
  {
   "cell_type": "markdown",
   "metadata": {},
   "source": [
    "## First glance at your data\n",
    "\n",
    "#### Learn\n",
    "How many features do you have?"
   ]
  },
  {
   "cell_type": "code",
   "execution_count": 7,
   "metadata": {},
   "outputs": [
    {
     "data": {
      "text/html": [
       "<div>\n",
       "<style scoped>\n",
       "    .dataframe tbody tr th:only-of-type {\n",
       "        vertical-align: middle;\n",
       "    }\n",
       "\n",
       "    .dataframe tbody tr th {\n",
       "        vertical-align: top;\n",
       "    }\n",
       "\n",
       "    .dataframe thead th {\n",
       "        text-align: right;\n",
       "    }\n",
       "</style>\n",
       "<table border=\"1\" class=\"dataframe\">\n",
       "  <thead>\n",
       "    <tr style=\"text-align: right;\">\n",
       "      <th></th>\n",
       "      <th>issn</th>\n",
       "      <th>journal_name</th>\n",
       "      <th>citation_count_sum</th>\n",
       "      <th>paper_count_sum</th>\n",
       "      <th>avg_cites_per_paper</th>\n",
       "      <th>ranking</th>\n",
       "      <th>proj_ai</th>\n",
       "    </tr>\n",
       "  </thead>\n",
       "  <tbody>\n",
       "    <tr>\n",
       "      <th>0</th>\n",
       "      <td>2092-6731</td>\n",
       "      <td>3d research</td>\n",
       "      <td>151.0</td>\n",
       "      <td>106.0</td>\n",
       "      <td>1.424528</td>\n",
       "      <td>D</td>\n",
       "      <td>0.290</td>\n",
       "    </tr>\n",
       "    <tr>\n",
       "      <th>1</th>\n",
       "      <td>1530-9932</td>\n",
       "      <td>aaps pharmscitech</td>\n",
       "      <td>2208.0</td>\n",
       "      <td>801.0</td>\n",
       "      <td>2.756554</td>\n",
       "      <td>D</td>\n",
       "      <td>0.665</td>\n",
       "    </tr>\n",
       "    <tr>\n",
       "      <th>2</th>\n",
       "      <td>1687-0409</td>\n",
       "      <td>abstract and applied analysis</td>\n",
       "      <td>3005.0</td>\n",
       "      <td>2923.0</td>\n",
       "      <td>1.028053</td>\n",
       "      <td>B</td>\n",
       "      <td>0.192</td>\n",
       "    </tr>\n",
       "    <tr>\n",
       "      <th>3</th>\n",
       "      <td>1545-7230</td>\n",
       "      <td>academic psychiatry</td>\n",
       "      <td>537.0</td>\n",
       "      <td>490.0</td>\n",
       "      <td>1.095918</td>\n",
       "      <td>NaN</td>\n",
       "      <td>0.208</td>\n",
       "    </tr>\n",
       "    <tr>\n",
       "      <th>4</th>\n",
       "      <td>1936-4709</td>\n",
       "      <td>academic questions</td>\n",
       "      <td>40.0</td>\n",
       "      <td>67.0</td>\n",
       "      <td>0.597015</td>\n",
       "      <td>A</td>\n",
       "      <td>0.097</td>\n",
       "    </tr>\n",
       "    <tr>\n",
       "      <th>...</th>\n",
       "      <td>...</td>\n",
       "      <td>...</td>\n",
       "      <td>...</td>\n",
       "      <td>...</td>\n",
       "      <td>...</td>\n",
       "      <td>...</td>\n",
       "      <td>...</td>\n",
       "    </tr>\n",
       "    <tr>\n",
       "      <th>3610</th>\n",
       "      <td>2083-6112</td>\n",
       "      <td>zoologica poloniae</td>\n",
       "      <td>0.0</td>\n",
       "      <td>10.0</td>\n",
       "      <td>0.000000</td>\n",
       "      <td>B</td>\n",
       "      <td>0.000</td>\n",
       "    </tr>\n",
       "    <tr>\n",
       "      <th>3611</th>\n",
       "      <td>1021-5506</td>\n",
       "      <td>zoological studies</td>\n",
       "      <td>381.0</td>\n",
       "      <td>290.0</td>\n",
       "      <td>1.313793</td>\n",
       "      <td>B</td>\n",
       "      <td>0.262</td>\n",
       "    </tr>\n",
       "    <tr>\n",
       "      <th>3612</th>\n",
       "      <td>0944-2006</td>\n",
       "      <td>zoology</td>\n",
       "      <td>472.0</td>\n",
       "      <td>221.0</td>\n",
       "      <td>2.135747</td>\n",
       "      <td>D</td>\n",
       "      <td>0.483</td>\n",
       "    </tr>\n",
       "    <tr>\n",
       "      <th>3613</th>\n",
       "      <td>1432-234X</td>\n",
       "      <td>zoomorphology</td>\n",
       "      <td>191.0</td>\n",
       "      <td>125.0</td>\n",
       "      <td>1.528000</td>\n",
       "      <td>D</td>\n",
       "      <td>0.317</td>\n",
       "    </tr>\n",
       "    <tr>\n",
       "      <th>3614</th>\n",
       "      <td>1280-9551</td>\n",
       "      <td>zoosystema</td>\n",
       "      <td>100.0</td>\n",
       "      <td>121.0</td>\n",
       "      <td>0.826446</td>\n",
       "      <td>NaN</td>\n",
       "      <td>0.146</td>\n",
       "    </tr>\n",
       "  </tbody>\n",
       "</table>\n",
       "<p>3615 rows × 7 columns</p>\n",
       "</div>"
      ],
      "text/plain": [
       "           issn                   journal_name  citation_count_sum  \\\n",
       "0     2092-6731                    3d research               151.0   \n",
       "1     1530-9932              aaps pharmscitech              2208.0   \n",
       "2     1687-0409  abstract and applied analysis              3005.0   \n",
       "3     1545-7230            academic psychiatry               537.0   \n",
       "4     1936-4709             academic questions                40.0   \n",
       "...         ...                            ...                 ...   \n",
       "3610  2083-6112             zoologica poloniae                 0.0   \n",
       "3611  1021-5506             zoological studies               381.0   \n",
       "3612  0944-2006                        zoology               472.0   \n",
       "3613  1432-234X                  zoomorphology               191.0   \n",
       "3614  1280-9551                     zoosystema               100.0   \n",
       "\n",
       "      paper_count_sum  avg_cites_per_paper ranking  proj_ai  \n",
       "0               106.0             1.424528       D    0.290  \n",
       "1               801.0             2.756554       D    0.665  \n",
       "2              2923.0             1.028053       B    0.192  \n",
       "3               490.0             1.095918     NaN    0.208  \n",
       "4                67.0             0.597015       A    0.097  \n",
       "...               ...                  ...     ...      ...  \n",
       "3610             10.0             0.000000       B    0.000  \n",
       "3611            290.0             1.313793       B    0.262  \n",
       "3612            221.0             2.135747       D    0.483  \n",
       "3613            125.0             1.528000       D    0.317  \n",
       "3614            121.0             0.826446     NaN    0.146  \n",
       "\n",
       "[3615 rows x 7 columns]"
      ]
     },
     "execution_count": 7,
     "metadata": {},
     "output_type": "execute_result"
    }
   ],
   "source": [
    "df_journals"
   ]
  },
  {
   "cell_type": "code",
   "execution_count": 9,
   "metadata": {},
   "outputs": [
    {
     "data": {
      "text/plain": [
       "Index(['issn', 'journal_name', 'citation_count_sum', 'paper_count_sum',\n",
       "       'avg_cites_per_paper', 'ranking', 'proj_ai'],\n",
       "      dtype='object')"
      ]
     },
     "execution_count": 9,
     "metadata": {},
     "output_type": "execute_result"
    }
   ],
   "source": [
    "df_journals.columns"
   ]
  },
  {
   "cell_type": "code",
   "execution_count": 8,
   "metadata": {},
   "outputs": [
    {
     "name": "stdout",
     "output_type": "stream",
     "text": [
      "Number of features: 7\n"
     ]
    }
   ],
   "source": [
    "print(\"Number of features: {}\".format(df_journals.shape[1]))"
   ]
  },
  {
   "cell_type": "markdown",
   "metadata": {},
   "source": [
    "How many samples do you have?"
   ]
  },
  {
   "cell_type": "code",
   "execution_count": 10,
   "metadata": {},
   "outputs": [
    {
     "name": "stdout",
     "output_type": "stream",
     "text": [
      "Number of samples: 3615\n"
     ]
    }
   ],
   "source": [
    "print(\"Number of samples: {}\".format(df_journals.shape[0]))"
   ]
  },
  {
   "cell_type": "markdown",
   "metadata": {},
   "source": [
    "> ### Question 1\n",
    "> #### Try\n",
    "> Print the first 10 rows to see what the data looks like. Apply the `head` function ([documentation](https://pandas.pydata.org/pandas-docs/stable/reference/api/pandas.DataFrame.head.html?highlight=head#pandas.DataFrame.head)) to your dataset."
   ]
  },
  {
   "cell_type": "code",
   "execution_count": 11,
   "metadata": {},
   "outputs": [
    {
     "data": {
      "text/html": [
       "<div>\n",
       "<style scoped>\n",
       "    .dataframe tbody tr th:only-of-type {\n",
       "        vertical-align: middle;\n",
       "    }\n",
       "\n",
       "    .dataframe tbody tr th {\n",
       "        vertical-align: top;\n",
       "    }\n",
       "\n",
       "    .dataframe thead th {\n",
       "        text-align: right;\n",
       "    }\n",
       "</style>\n",
       "<table border=\"1\" class=\"dataframe\">\n",
       "  <thead>\n",
       "    <tr style=\"text-align: right;\">\n",
       "      <th></th>\n",
       "      <th>issn</th>\n",
       "      <th>journal_name</th>\n",
       "      <th>citation_count_sum</th>\n",
       "      <th>paper_count_sum</th>\n",
       "      <th>avg_cites_per_paper</th>\n",
       "      <th>ranking</th>\n",
       "      <th>proj_ai</th>\n",
       "    </tr>\n",
       "  </thead>\n",
       "  <tbody>\n",
       "    <tr>\n",
       "      <th>0</th>\n",
       "      <td>2092-6731</td>\n",
       "      <td>3d research</td>\n",
       "      <td>151.0</td>\n",
       "      <td>106.0</td>\n",
       "      <td>1.424528</td>\n",
       "      <td>D</td>\n",
       "      <td>0.290</td>\n",
       "    </tr>\n",
       "    <tr>\n",
       "      <th>1</th>\n",
       "      <td>1530-9932</td>\n",
       "      <td>aaps pharmscitech</td>\n",
       "      <td>2208.0</td>\n",
       "      <td>801.0</td>\n",
       "      <td>2.756554</td>\n",
       "      <td>D</td>\n",
       "      <td>0.665</td>\n",
       "    </tr>\n",
       "    <tr>\n",
       "      <th>2</th>\n",
       "      <td>1687-0409</td>\n",
       "      <td>abstract and applied analysis</td>\n",
       "      <td>3005.0</td>\n",
       "      <td>2923.0</td>\n",
       "      <td>1.028053</td>\n",
       "      <td>B</td>\n",
       "      <td>0.192</td>\n",
       "    </tr>\n",
       "    <tr>\n",
       "      <th>3</th>\n",
       "      <td>1545-7230</td>\n",
       "      <td>academic psychiatry</td>\n",
       "      <td>537.0</td>\n",
       "      <td>490.0</td>\n",
       "      <td>1.095918</td>\n",
       "      <td>NaN</td>\n",
       "      <td>0.208</td>\n",
       "    </tr>\n",
       "    <tr>\n",
       "      <th>4</th>\n",
       "      <td>1936-4709</td>\n",
       "      <td>academic questions</td>\n",
       "      <td>40.0</td>\n",
       "      <td>67.0</td>\n",
       "      <td>0.597015</td>\n",
       "      <td>A</td>\n",
       "      <td>0.097</td>\n",
       "    </tr>\n",
       "    <tr>\n",
       "      <th>5</th>\n",
       "      <td>1432-0517</td>\n",
       "      <td>accreditation and quality assurance</td>\n",
       "      <td>255.0</td>\n",
       "      <td>331.0</td>\n",
       "      <td>0.770393</td>\n",
       "      <td>A</td>\n",
       "      <td>0.134</td>\n",
       "    </tr>\n",
       "    <tr>\n",
       "      <th>6</th>\n",
       "      <td>1839-2571</td>\n",
       "      <td>acoustics australia</td>\n",
       "      <td>30.0</td>\n",
       "      <td>25.0</td>\n",
       "      <td>1.200000</td>\n",
       "      <td>D</td>\n",
       "      <td>0.234</td>\n",
       "    </tr>\n",
       "    <tr>\n",
       "      <th>7</th>\n",
       "      <td>2199-6067</td>\n",
       "      <td>acrocephalus</td>\n",
       "      <td>9.0</td>\n",
       "      <td>15.0</td>\n",
       "      <td>0.600000</td>\n",
       "      <td>C</td>\n",
       "      <td>0.098</td>\n",
       "    </tr>\n",
       "    <tr>\n",
       "      <th>8</th>\n",
       "      <td>1846-0453</td>\n",
       "      <td>acta adriatica</td>\n",
       "      <td>28.0</td>\n",
       "      <td>37.0</td>\n",
       "      <td>0.756757</td>\n",
       "      <td>NaN</td>\n",
       "      <td>0.131</td>\n",
       "    </tr>\n",
       "    <tr>\n",
       "      <th>9</th>\n",
       "      <td>1854-1941</td>\n",
       "      <td>acta agriculturae slovenica</td>\n",
       "      <td>71.0</td>\n",
       "      <td>97.0</td>\n",
       "      <td>0.731959</td>\n",
       "      <td>C</td>\n",
       "      <td>0.125</td>\n",
       "    </tr>\n",
       "  </tbody>\n",
       "</table>\n",
       "</div>"
      ],
      "text/plain": [
       "        issn                         journal_name  citation_count_sum  \\\n",
       "0  2092-6731                          3d research               151.0   \n",
       "1  1530-9932                    aaps pharmscitech              2208.0   \n",
       "2  1687-0409        abstract and applied analysis              3005.0   \n",
       "3  1545-7230                  academic psychiatry               537.0   \n",
       "4  1936-4709                   academic questions                40.0   \n",
       "5  1432-0517  accreditation and quality assurance               255.0   \n",
       "6  1839-2571                  acoustics australia                30.0   \n",
       "7  2199-6067                         acrocephalus                 9.0   \n",
       "8  1846-0453                       acta adriatica                28.0   \n",
       "9  1854-1941          acta agriculturae slovenica                71.0   \n",
       "\n",
       "   paper_count_sum  avg_cites_per_paper ranking  proj_ai  \n",
       "0            106.0             1.424528       D    0.290  \n",
       "1            801.0             2.756554       D    0.665  \n",
       "2           2923.0             1.028053       B    0.192  \n",
       "3            490.0             1.095918     NaN    0.208  \n",
       "4             67.0             0.597015       A    0.097  \n",
       "5            331.0             0.770393       A    0.134  \n",
       "6             25.0             1.200000       D    0.234  \n",
       "7             15.0             0.600000       C    0.098  \n",
       "8             37.0             0.756757     NaN    0.131  \n",
       "9             97.0             0.731959       C    0.125  "
      ]
     },
     "execution_count": 11,
     "metadata": {},
     "output_type": "execute_result"
    }
   ],
   "source": [
    "# Enter your code here\n",
    "df_journals.head(10)"
   ]
  },
  {
   "cell_type": "markdown",
   "metadata": {},
   "source": [
    "## Dealing with missing values\n",
    "#### Learn\n",
    "Check how many values are missing for each column."
   ]
  },
  {
   "cell_type": "markdown",
   "metadata": {},
   "source": [
    "The **isnull()** command returns **True** for each cell of the dataset that is missing a value."
   ]
  },
  {
   "cell_type": "code",
   "execution_count": 17,
   "metadata": {},
   "outputs": [
    {
     "data": {
      "text/plain": [
       "issn                     0\n",
       "journal_name             0\n",
       "citation_count_sum      12\n",
       "paper_count_sum         12\n",
       "avg_cites_per_paper     12\n",
       "ranking                633\n",
       "proj_ai                 12\n",
       "dtype: int64"
      ]
     },
     "execution_count": 17,
     "metadata": {},
     "output_type": "execute_result"
    }
   ],
   "source": [
    "#df_journals.isnull()\n",
    "#df_journals.isnull().head(10)\n",
    "df_journals.isnull().sum()"
   ]
  },
  {
   "cell_type": "markdown",
   "metadata": {},
   "source": [
    "#### Is it broken?\n",
    "This visualization is not practical for big datasets. You can try to sum all rows for each column. As all the values above are booleans, if you sum by column (feature), you will have the amount of **true** values--the number of missing values for each feature."
   ]
  },
  {
   "cell_type": "markdown",
   "metadata": {},
   "source": [
    "> ### Question 2\n",
    "> #### Fix\n",
    "> Apply the **.isnull()** function to your dataset as above, but concatenate the result with a **.sum()** function to show the number of missing values for each feature.<br/>\n",
    "\n",
    ">`isnull` ([documentation](https://pandas.pydata.org/pandas-docs/stable/reference/api/pandas.DataFrame.isnull.html?highlight=isnull#pandas.DataFrame.isnull))<br/>\n",
    ">`sum` ([documentation](https://pandas.pydata.org/pandas-docs/stable/reference/api/pandas.DataFrame.sum.html?highlight=sum#pandas.DataFrame.sum))"
   ]
  },
  {
   "cell_type": "code",
   "execution_count": 11,
   "metadata": {},
   "outputs": [
    {
     "data": {
      "text/plain": [
       "issn                     0\n",
       "journal_name             0\n",
       "citation_count_sum      12\n",
       "paper_count_sum         12\n",
       "avg_cites_per_paper     12\n",
       "ranking                633\n",
       "proj_ai                 12\n",
       "dtype: int64"
      ]
     },
     "execution_count": 11,
     "metadata": {},
     "output_type": "execute_result"
    }
   ],
   "source": [
    "# Enter your code here\n",
    "df_journals.isnull().sum()"
   ]
  },
  {
   "cell_type": "markdown",
   "metadata": {},
   "source": [
    "#### Learn\n",
    "You observed that there are missing values in the dataset."
   ]
  },
  {
   "cell_type": "markdown",
   "metadata": {},
   "source": [
    "Missing values are an important issue. Most models won't deal well with missing values.\n",
    "\n",
    "You can remove the missing values or impute values for them. Each choice has pros and cons, depending on the importance of the particular feature for your training job, if you can afford to remove those missing values, etc.\n",
    "\n",
    "The following command filters only the rows with `any` ([documentation](https://pandas.pydata.org/pandas-docs/stable/reference/api/pandas.DataFrame.any.html?highlight=any#pandas.DataFrame.any)) missing value. The first 10 rows display."
   ]
  },
  {
   "cell_type": "code",
   "execution_count": 20,
   "metadata": {},
   "outputs": [
    {
     "data": {
      "text/html": [
       "<div>\n",
       "<style scoped>\n",
       "    .dataframe tbody tr th:only-of-type {\n",
       "        vertical-align: middle;\n",
       "    }\n",
       "\n",
       "    .dataframe tbody tr th {\n",
       "        vertical-align: top;\n",
       "    }\n",
       "\n",
       "    .dataframe thead th {\n",
       "        text-align: right;\n",
       "    }\n",
       "</style>\n",
       "<table border=\"1\" class=\"dataframe\">\n",
       "  <thead>\n",
       "    <tr style=\"text-align: right;\">\n",
       "      <th></th>\n",
       "      <th>issn</th>\n",
       "      <th>journal_name</th>\n",
       "      <th>citation_count_sum</th>\n",
       "      <th>paper_count_sum</th>\n",
       "      <th>avg_cites_per_paper</th>\n",
       "      <th>ranking</th>\n",
       "      <th>proj_ai</th>\n",
       "    </tr>\n",
       "  </thead>\n",
       "  <tbody>\n",
       "    <tr>\n",
       "      <th>3</th>\n",
       "      <td>1545-7230</td>\n",
       "      <td>academic psychiatry</td>\n",
       "      <td>537.0</td>\n",
       "      <td>490.0</td>\n",
       "      <td>1.095918</td>\n",
       "      <td>NaN</td>\n",
       "      <td>0.208</td>\n",
       "    </tr>\n",
       "    <tr>\n",
       "      <th>8</th>\n",
       "      <td>1846-0453</td>\n",
       "      <td>acta adriatica</td>\n",
       "      <td>28.0</td>\n",
       "      <td>37.0</td>\n",
       "      <td>0.756757</td>\n",
       "      <td>NaN</td>\n",
       "      <td>0.131</td>\n",
       "    </tr>\n",
       "    <tr>\n",
       "      <th>18</th>\n",
       "      <td>1614-7065</td>\n",
       "      <td>acta chimica sinica</td>\n",
       "      <td>619.0</td>\n",
       "      <td>537.0</td>\n",
       "      <td>1.152700</td>\n",
       "      <td>NaN</td>\n",
       "      <td>0.222</td>\n",
       "    </tr>\n",
       "    <tr>\n",
       "      <th>25</th>\n",
       "      <td>1958-5454</td>\n",
       "      <td>acta endoscopica</td>\n",
       "      <td>31.0</td>\n",
       "      <td>70.0</td>\n",
       "      <td>0.442857</td>\n",
       "      <td>NaN</td>\n",
       "      <td>0.067</td>\n",
       "    </tr>\n",
       "    <tr>\n",
       "      <th>38</th>\n",
       "      <td>0386-300X</td>\n",
       "      <td>acta medica okayama</td>\n",
       "      <td>257.0</td>\n",
       "      <td>228.0</td>\n",
       "      <td>1.127193</td>\n",
       "      <td>NaN</td>\n",
       "      <td>0.216</td>\n",
       "    </tr>\n",
       "    <tr>\n",
       "      <th>46</th>\n",
       "      <td>1745-3674</td>\n",
       "      <td>acta orthopaedica</td>\n",
       "      <td>2364.0</td>\n",
       "      <td>611.0</td>\n",
       "      <td>3.869067</td>\n",
       "      <td>NaN</td>\n",
       "      <td>1.019</td>\n",
       "    </tr>\n",
       "    <tr>\n",
       "      <th>60</th>\n",
       "      <td>0303-464X</td>\n",
       "      <td>acta reumatologica portuguesa</td>\n",
       "      <td>213.0</td>\n",
       "      <td>205.0</td>\n",
       "      <td>1.039024</td>\n",
       "      <td>NaN</td>\n",
       "      <td>0.195</td>\n",
       "    </tr>\n",
       "    <tr>\n",
       "      <th>70</th>\n",
       "      <td>1940-0640</td>\n",
       "      <td>addiction science &amp; clinical practice</td>\n",
       "      <td>294.0</td>\n",
       "      <td>133.0</td>\n",
       "      <td>2.210526</td>\n",
       "      <td>NaN</td>\n",
       "      <td>0.504</td>\n",
       "    </tr>\n",
       "    <tr>\n",
       "      <th>91</th>\n",
       "      <td>1687-711X</td>\n",
       "      <td>advances in fuzzy systems</td>\n",
       "      <td>128.0</td>\n",
       "      <td>107.0</td>\n",
       "      <td>1.196262</td>\n",
       "      <td>NaN</td>\n",
       "      <td>0.233</td>\n",
       "    </tr>\n",
       "    <tr>\n",
       "      <th>95</th>\n",
       "      <td>1687-7365</td>\n",
       "      <td>advances in high energy physics</td>\n",
       "      <td>791.0</td>\n",
       "      <td>373.0</td>\n",
       "      <td>2.120643</td>\n",
       "      <td>NaN</td>\n",
       "      <td>0.478</td>\n",
       "    </tr>\n",
       "  </tbody>\n",
       "</table>\n",
       "</div>"
      ],
      "text/plain": [
       "         issn                           journal_name  citation_count_sum  \\\n",
       "3   1545-7230                    academic psychiatry               537.0   \n",
       "8   1846-0453                         acta adriatica                28.0   \n",
       "18  1614-7065                    acta chimica sinica               619.0   \n",
       "25  1958-5454                       acta endoscopica                31.0   \n",
       "38  0386-300X                    acta medica okayama               257.0   \n",
       "46  1745-3674                      acta orthopaedica              2364.0   \n",
       "60  0303-464X          acta reumatologica portuguesa               213.0   \n",
       "70  1940-0640  addiction science & clinical practice               294.0   \n",
       "91  1687-711X              advances in fuzzy systems               128.0   \n",
       "95  1687-7365        advances in high energy physics               791.0   \n",
       "\n",
       "    paper_count_sum  avg_cites_per_paper ranking  proj_ai  \n",
       "3             490.0             1.095918     NaN    0.208  \n",
       "8              37.0             0.756757     NaN    0.131  \n",
       "18            537.0             1.152700     NaN    0.222  \n",
       "25             70.0             0.442857     NaN    0.067  \n",
       "38            228.0             1.127193     NaN    0.216  \n",
       "46            611.0             3.869067     NaN    1.019  \n",
       "60            205.0             1.039024     NaN    0.195  \n",
       "70            133.0             2.210526     NaN    0.504  \n",
       "91            107.0             1.196262     NaN    0.233  \n",
       "95            373.0             2.120643     NaN    0.478  "
      ]
     },
     "execution_count": 20,
     "metadata": {},
     "output_type": "execute_result"
    }
   ],
   "source": [
    "df_journals_null_data = df_journals[df_journals.isnull().any(axis=1)]\n",
    "df_journals_null_data.head(10)"
   ]
  },
  {
   "cell_type": "markdown",
   "metadata": {},
   "source": [
    "## Dealing with missing values\n",
    "#### Fix\n",
    "Let's suppose you have decided to remove the rows with missing values.\n",
    "\n",
    "Remove the missing values by applying the `dropna` function ([documentation](https://pandas.pydata.org/pandas-docs/stable/reference/api/pandas.DataFrame.dropna.html?highlight=dropna#pandas.DataFrame.dropna)) to your dataset. Save the result in a new dataset named **df_journals_no_miss**. Use the `shape` function ([documentation](https://pandas.pydata.org/pandas-docs/stable/reference/api/pandas.DataFrame.shape.html?highlight=shape#pandas.DataFrame.shape)) after that to confirm that your dataset has fewer rows."
   ]
  },
  {
   "cell_type": "markdown",
   "metadata": {},
   "source": [
    "#### Learn\n",
    "How many rows are left?"
   ]
  },
  {
   "cell_type": "code",
   "execution_count": 21,
   "metadata": {},
   "outputs": [
    {
     "data": {
      "text/plain": [
       "(2972, 7)"
      ]
     },
     "execution_count": 21,
     "metadata": {},
     "output_type": "execute_result"
    }
   ],
   "source": [
    "df_journals_no_miss = df_journals.dropna()\n",
    "df_journals_no_miss.shape"
   ]
  },
  {
   "cell_type": "markdown",
   "metadata": {},
   "source": [
    "#### Learn\n",
    "Confirm that you have removed all missing values."
   ]
  },
  {
   "cell_type": "code",
   "execution_count": 22,
   "metadata": {},
   "outputs": [
    {
     "data": {
      "text/plain": [
       "issn                   False\n",
       "journal_name           False\n",
       "citation_count_sum     False\n",
       "paper_count_sum        False\n",
       "avg_cites_per_paper    False\n",
       "ranking                False\n",
       "proj_ai                False\n",
       "dtype: bool"
      ]
     },
     "execution_count": 22,
     "metadata": {},
     "output_type": "execute_result"
    }
   ],
   "source": [
    "df_journals_no_miss.isna().any()"
   ]
  },
  {
   "cell_type": "markdown",
   "metadata": {},
   "source": [
    "Now, suppose that you cannot afford to remove the rows with missing values. Maybe you don't want to reduce your already small dataset. "
   ]
  },
  {
   "cell_type": "markdown",
   "metadata": {},
   "source": [
    "## Imputing numerical values\n",
    "#### Learn\n",
    "One way to impute numerical values is to consider the mean of the feature (column) value. The following command calculates the mean of all numerical features in your dataset."
   ]
  },
  {
   "cell_type": "code",
   "execution_count": 25,
   "metadata": {},
   "outputs": [
    {
     "name": "stdout",
     "output_type": "stream",
     "text": [
      "<class 'pandas.core.frame.DataFrame'>\n",
      "RangeIndex: 3615 entries, 0 to 3614\n",
      "Data columns (total 7 columns):\n",
      " #   Column               Non-Null Count  Dtype  \n",
      "---  ------               --------------  -----  \n",
      " 0   issn                 3615 non-null   object \n",
      " 1   journal_name         3615 non-null   object \n",
      " 2   citation_count_sum   3603 non-null   float64\n",
      " 3   paper_count_sum      3603 non-null   float64\n",
      " 4   avg_cites_per_paper  3603 non-null   float64\n",
      " 5   ranking              2982 non-null   object \n",
      " 6   proj_ai              3603 non-null   float64\n",
      "dtypes: float64(4), object(3)\n",
      "memory usage: 197.8+ KB\n"
     ]
    }
   ],
   "source": [
    "df_journals.isnull().sum()\n",
    "df_journals.info()"
   ]
  },
  {
   "cell_type": "code",
   "execution_count": 26,
   "metadata": {},
   "outputs": [
    {
     "name": "stdout",
     "output_type": "stream",
     "text": [
      "citation_count_sum_MEAN: 1446.713849569803\n",
      "paper_count_sum_MEAN: 509.67110741049123\n",
      "avg_cites_per_paper_MEAN: 2.118970176206788\n",
      "proj_ai_MEAN: 0.5165542603386067\n"
     ]
    }
   ],
   "source": [
    "citation_count_sum_MEAN = df_journals[\"citation_count_sum\"].mean()\n",
    "paper_count_sum_MEAN = df_journals[\"paper_count_sum\"].mean()\n",
    "avg_cites_per_paper_MEAN = df_journals[\"avg_cites_per_paper\"].mean()\n",
    "proj_ai_MEAN = df_journals[\"proj_ai\"].mean()\n",
    "print(\"citation_count_sum_MEAN: {}\".format(citation_count_sum_MEAN))\n",
    "print(\"paper_count_sum_MEAN: {}\".format(paper_count_sum_MEAN))\n",
    "print(\"avg_cites_per_paper_MEAN: {}\".format(avg_cites_per_paper_MEAN))\n",
    "print(\"proj_ai_MEAN: {}\".format(proj_ai_MEAN))"
   ]
  },
  {
   "cell_type": "markdown",
   "metadata": {},
   "source": [
    "The following command updates each missing value with the calculated mean for the feature.\n",
    "\n",
    "**Note:** The `inplace` clause ([documentation](https://pandas.pydata.org/pandas-docs/stable/reference/api/pandas.DataFrame.fillna.html?highlight=fillna#pandas.DataFrame.fillna)) means that the update acts on the original dataset, so you don't need to attribute the result on a new dataset."
   ]
  },
  {
   "cell_type": "code",
   "execution_count": 27,
   "metadata": {},
   "outputs": [],
   "source": [
    "df_journals[\"citation_count_sum\"].fillna(citation_count_sum_MEAN, inplace=True)\n",
    "df_journals[\"paper_count_sum\"].fillna(paper_count_sum_MEAN, inplace=True)\n",
    "df_journals[\"avg_cites_per_paper\"].fillna(avg_cites_per_paper_MEAN, inplace=True)\n",
    "df_journals[\"proj_ai\"].fillna(proj_ai_MEAN, inplace=True)"
   ]
  },
  {
   "cell_type": "code",
   "execution_count": 28,
   "metadata": {},
   "outputs": [
    {
     "data": {
      "text/plain": [
       "issn                     0\n",
       "journal_name             0\n",
       "citation_count_sum       0\n",
       "paper_count_sum          0\n",
       "avg_cites_per_paper      0\n",
       "ranking                633\n",
       "proj_ai                  0\n",
       "dtype: int64"
      ]
     },
     "execution_count": 28,
     "metadata": {},
     "output_type": "execute_result"
    }
   ],
   "source": [
    "df_journals.isnull().sum()"
   ]
  },
  {
   "cell_type": "markdown",
   "metadata": {},
   "source": [
    "#### Learn\n",
    "Confirm that you have imputed for all of the numerical values. You will deal with categorical values next."
   ]
  },
  {
   "cell_type": "code",
   "execution_count": 29,
   "metadata": {},
   "outputs": [
    {
     "data": {
      "text/plain": [
       "issn                   False\n",
       "journal_name           False\n",
       "citation_count_sum     False\n",
       "paper_count_sum        False\n",
       "avg_cites_per_paper    False\n",
       "ranking                 True\n",
       "proj_ai                False\n",
       "dtype: bool"
      ]
     },
     "execution_count": 29,
     "metadata": {},
     "output_type": "execute_result"
    }
   ],
   "source": [
    "df_journals.isna().any()"
   ]
  },
  {
   "cell_type": "markdown",
   "metadata": {},
   "source": [
    "## Imputing categorical values\n",
    "#### Learn\n",
    "For categorical value imputation, a common approach is to use the most frequent value (the mode)."
   ]
  },
  {
   "cell_type": "markdown",
   "metadata": {},
   "source": [
    "#### Try\n",
    "Check the possible values for the \"ranking\" feature.\n",
    "\n",
    "Pandas has an interesting command that prints the frequency for categoricals: `value_counts` ([documentation](https://pandas.pydata.org/pandas-docs/stable/reference/api/pandas.Series.value_counts.html?highlight=value_counts#pandas.Series.value_counts)).\n",
    "\n",
    "Apply this command to the feature in your dataset to see the categoricals distribution of \"ranking\"."
   ]
  },
  {
   "cell_type": "code",
   "execution_count": 30,
   "metadata": {},
   "outputs": [
    {
     "data": {
      "text/plain": [
       "ranking\n",
       "D    1222\n",
       "B     590\n",
       "A     589\n",
       "C     581\n",
       "Name: count, dtype: int64"
      ]
     },
     "execution_count": 30,
     "metadata": {},
     "output_type": "execute_result"
    }
   ],
   "source": [
    "df_journals[\"ranking\"].value_counts()"
   ]
  },
  {
   "cell_type": "markdown",
   "metadata": {},
   "source": [
    "Now, check for the most frequent value for the categorical feature. Use the `mode` function ([documentation](https://pandas.pydata.org/pandas-docs/stable/reference/api/pandas.DataFrame.mode.html?highlight=mode#pandas.DataFrame.mode)).\n",
    "\n",
    "**Note:** You can access the feature using `df_journals[\"ranking\"]` or `df_journals.ranking`."
   ]
  },
  {
   "cell_type": "code",
   "execution_count": 33,
   "metadata": {},
   "outputs": [
    {
     "data": {
      "text/plain": [
       "'D'"
      ]
     },
     "execution_count": 33,
     "metadata": {},
     "output_type": "execute_result"
    }
   ],
   "source": [
    "df_journals.ranking.mode()[0]"
   ]
  },
  {
   "cell_type": "markdown",
   "metadata": {},
   "source": [
    "#### Learn\n",
    "The command returned **D** as the most frequent value (the mode)."
   ]
  },
  {
   "cell_type": "markdown",
   "metadata": {},
   "source": [
    "Use the same command that you used to impute the numerical features to impute the most frequent ranking **D**."
   ]
  },
  {
   "cell_type": "code",
   "execution_count": 34,
   "metadata": {},
   "outputs": [],
   "source": [
    "df_journals[\"ranking\"].fillna('D', inplace=True)"
   ]
  },
  {
   "cell_type": "markdown",
   "metadata": {},
   "source": [
    "#### Learn\n",
    "Now, run the following command to see if you have any null values left. You should only have **False** values now."
   ]
  },
  {
   "cell_type": "code",
   "execution_count": 35,
   "metadata": {},
   "outputs": [
    {
     "data": {
      "text/plain": [
       "issn                   False\n",
       "journal_name           False\n",
       "citation_count_sum     False\n",
       "paper_count_sum        False\n",
       "avg_cites_per_paper    False\n",
       "ranking                False\n",
       "proj_ai                False\n",
       "dtype: bool"
      ]
     },
     "execution_count": 35,
     "metadata": {},
     "output_type": "execute_result"
    }
   ],
   "source": [
    "df_journals.isna().any()"
   ]
  },
  {
   "cell_type": "markdown",
   "metadata": {},
   "source": [
    "#### Learn\n",
    "To make sure the missing values turned into D, the **value_counts()** command should reflect that the new count for the categorical value **D** is the sum of the original one and the number of null values."
   ]
  },
  {
   "cell_type": "code",
   "execution_count": 36,
   "metadata": {},
   "outputs": [
    {
     "data": {
      "text/plain": [
       "ranking\n",
       "D    1855\n",
       "B     590\n",
       "A     589\n",
       "C     581\n",
       "Name: count, dtype: int64"
      ]
     },
     "execution_count": 36,
     "metadata": {},
     "output_type": "execute_result"
    }
   ],
   "source": [
    "df_journals[\"ranking\"].value_counts()"
   ]
  },
  {
   "cell_type": "markdown",
   "metadata": {},
   "source": [
    "#### Is it broken?\n",
    "Unbalanced labels occur when the distribution between the labels presents some of them with much higher frequency than the others. For this dataset, it is not the case."
   ]
  },
  {
   "cell_type": "markdown",
   "metadata": {},
   "source": [
    "## Basic statistics for numerical values\n",
    "#### Exploring distributions\n",
    "##### Try\n",
    "Calculate the min value, max value, mean, standard deviation, and the 25% and 75% percentiles for each column. Use the `describe` command ([documentation](https://pandas.pydata.org/pandas-docs/stable/reference/api/pandas.DataFrame.describe.html?highlight=describe#pandas.DataFrame.describe))."
   ]
  },
  {
   "cell_type": "code",
   "execution_count": 37,
   "metadata": {},
   "outputs": [
    {
     "data": {
      "text/html": [
       "<div>\n",
       "<style scoped>\n",
       "    .dataframe tbody tr th:only-of-type {\n",
       "        vertical-align: middle;\n",
       "    }\n",
       "\n",
       "    .dataframe tbody tr th {\n",
       "        vertical-align: top;\n",
       "    }\n",
       "\n",
       "    .dataframe thead th {\n",
       "        text-align: right;\n",
       "    }\n",
       "</style>\n",
       "<table border=\"1\" class=\"dataframe\">\n",
       "  <thead>\n",
       "    <tr style=\"text-align: right;\">\n",
       "      <th></th>\n",
       "      <th>citation_count_sum</th>\n",
       "      <th>paper_count_sum</th>\n",
       "      <th>avg_cites_per_paper</th>\n",
       "      <th>proj_ai</th>\n",
       "    </tr>\n",
       "  </thead>\n",
       "  <tbody>\n",
       "    <tr>\n",
       "      <th>count</th>\n",
       "      <td>3615.000000</td>\n",
       "      <td>3615.000000</td>\n",
       "      <td>3615.000000</td>\n",
       "      <td>3615.000000</td>\n",
       "    </tr>\n",
       "    <tr>\n",
       "      <th>mean</th>\n",
       "      <td>1446.713850</td>\n",
       "      <td>509.671107</td>\n",
       "      <td>2.118970</td>\n",
       "      <td>0.516554</td>\n",
       "    </tr>\n",
       "    <tr>\n",
       "      <th>std</th>\n",
       "      <td>7983.573195</td>\n",
       "      <td>1920.708341</td>\n",
       "      <td>1.685032</td>\n",
       "      <td>0.571603</td>\n",
       "    </tr>\n",
       "    <tr>\n",
       "      <th>min</th>\n",
       "      <td>0.000000</td>\n",
       "      <td>1.000000</td>\n",
       "      <td>0.000000</td>\n",
       "      <td>0.000000</td>\n",
       "    </tr>\n",
       "    <tr>\n",
       "      <th>25%</th>\n",
       "      <td>151.000000</td>\n",
       "      <td>107.000000</td>\n",
       "      <td>1.056067</td>\n",
       "      <td>0.199000</td>\n",
       "    </tr>\n",
       "    <tr>\n",
       "      <th>50%</th>\n",
       "      <td>424.000000</td>\n",
       "      <td>240.000000</td>\n",
       "      <td>1.722628</td>\n",
       "      <td>0.368000</td>\n",
       "    </tr>\n",
       "    <tr>\n",
       "      <th>75%</th>\n",
       "      <td>1113.500000</td>\n",
       "      <td>520.500000</td>\n",
       "      <td>2.705021</td>\n",
       "      <td>0.649500</td>\n",
       "    </tr>\n",
       "    <tr>\n",
       "      <th>max</th>\n",
       "      <td>426949.000000</td>\n",
       "      <td>104705.000000</td>\n",
       "      <td>26.318824</td>\n",
       "      <td>11.367000</td>\n",
       "    </tr>\n",
       "  </tbody>\n",
       "</table>\n",
       "</div>"
      ],
      "text/plain": [
       "       citation_count_sum  paper_count_sum  avg_cites_per_paper      proj_ai\n",
       "count         3615.000000      3615.000000          3615.000000  3615.000000\n",
       "mean          1446.713850       509.671107             2.118970     0.516554\n",
       "std           7983.573195      1920.708341             1.685032     0.571603\n",
       "min              0.000000         1.000000             0.000000     0.000000\n",
       "25%            151.000000       107.000000             1.056067     0.199000\n",
       "50%            424.000000       240.000000             1.722628     0.368000\n",
       "75%           1113.500000       520.500000             2.705021     0.649500\n",
       "max         426949.000000    104705.000000            26.318824    11.367000"
      ]
     },
     "execution_count": 37,
     "metadata": {},
     "output_type": "execute_result"
    }
   ],
   "source": [
    "df_journals.describe()"
   ]
  },
  {
   "cell_type": "markdown",
   "metadata": {},
   "source": [
    ">### Question 3\n",
    "Plot the distribution of the \"avg_cites_per_paper\" feature. Use the `.plot.hist(bins=100)` function from matplotlib to plot the distribution of each feature.\n",
    "\n",
    ">`hist` ([documentation](https://matplotlib.org/3.1.1/api/_as_gen/matplotlib.pyplot.hist.html?highlight=hist#matplotlib.pyplot.hist))"
   ]
  },
  {
   "cell_type": "code",
   "execution_count": 49,
   "metadata": {},
   "outputs": [
    {
     "ename": "AttributeError",
     "evalue": "Rectangle.set() got an unexpected keyword argument 'colour'",
     "output_type": "error",
     "traceback": [
      "\u001b[1;31m---------------------------------------------------------------------------\u001b[0m",
      "\u001b[1;31mAttributeError\u001b[0m                            Traceback (most recent call last)",
      "\u001b[1;32mc:\\ML Training\\Python\\DataProcessing.ipynb Cell 58\u001b[0m line \u001b[0;36m3\n\u001b[0;32m      <a href='vscode-notebook-cell:/c%3A/ML%20Training/Python/DataProcessing.ipynb#Y104sZmlsZQ%3D%3D?line=0'>1</a>\u001b[0m \u001b[39m# Enter your code here\u001b[39;00m\n\u001b[0;32m      <a href='vscode-notebook-cell:/c%3A/ML%20Training/Python/DataProcessing.ipynb#Y104sZmlsZQ%3D%3D?line=1'>2</a>\u001b[0m \u001b[39m#df_journals[\"avg_cites_per_paper\"].plot.hist(bins=50)\u001b[39;00m\n\u001b[1;32m----> <a href='vscode-notebook-cell:/c%3A/ML%20Training/Python/DataProcessing.ipynb#Y104sZmlsZQ%3D%3D?line=2'>3</a>\u001b[0m df_journals[\u001b[39m\"\u001b[39;49m\u001b[39mavg_cites_per_paper\u001b[39;49m\u001b[39m\"\u001b[39;49m]\u001b[39m.\u001b[39;49mplot\u001b[39m.\u001b[39;49mbar(x\u001b[39m=\u001b[39;49m\u001b[39m500\u001b[39;49m,y\u001b[39m=\u001b[39;49m\u001b[39m100\u001b[39;49m,colour\u001b[39m=\u001b[39;49m\u001b[39m\"\u001b[39;49m\u001b[39mred\u001b[39;49m\u001b[39m\"\u001b[39;49m)\n\u001b[0;32m      <a href='vscode-notebook-cell:/c%3A/ML%20Training/Python/DataProcessing.ipynb#Y104sZmlsZQ%3D%3D?line=4'>5</a>\u001b[0m \u001b[39m#Histogram - for frequency of data\u001b[39;00m\n",
      "File \u001b[1;32mc:\\Users\\Administrator\\AppData\\Local\\Programs\\Python\\Python312\\Lib\\site-packages\\pandas\\plotting\\_core.py:1193\u001b[0m, in \u001b[0;36mPlotAccessor.bar\u001b[1;34m(self, x, y, **kwargs)\u001b[0m\n\u001b[0;32m   1103\u001b[0m \u001b[39m@Appender\u001b[39m(\n\u001b[0;32m   1104\u001b[0m \u001b[39m    \u001b[39m\u001b[39m\"\"\"\u001b[39;00m\n\u001b[0;32m   1105\u001b[0m \u001b[39m    See Also\u001b[39;00m\n\u001b[1;32m   (...)\u001b[0m\n\u001b[0;32m   1182\u001b[0m     \u001b[39mself\u001b[39m, x: Hashable \u001b[39m|\u001b[39m \u001b[39mNone\u001b[39;00m \u001b[39m=\u001b[39m \u001b[39mNone\u001b[39;00m, y: Hashable \u001b[39m|\u001b[39m \u001b[39mNone\u001b[39;00m \u001b[39m=\u001b[39m \u001b[39mNone\u001b[39;00m, \u001b[39m*\u001b[39m\u001b[39m*\u001b[39mkwargs\n\u001b[0;32m   1183\u001b[0m ) \u001b[39m-\u001b[39m\u001b[39m>\u001b[39m PlotAccessor:\n\u001b[0;32m   1184\u001b[0m \u001b[39m    \u001b[39m\u001b[39m\"\"\"\u001b[39;00m\n\u001b[0;32m   1185\u001b[0m \u001b[39m    Vertical bar plot.\u001b[39;00m\n\u001b[0;32m   1186\u001b[0m \n\u001b[1;32m   (...)\u001b[0m\n\u001b[0;32m   1191\u001b[0m \u001b[39m    other axis represents a measured value.\u001b[39;00m\n\u001b[0;32m   1192\u001b[0m \u001b[39m    \"\"\"\u001b[39;00m\n\u001b[1;32m-> 1193\u001b[0m     \u001b[39mreturn\u001b[39;00m \u001b[39mself\u001b[39;49m(kind\u001b[39m=\u001b[39;49m\u001b[39m\"\u001b[39;49m\u001b[39mbar\u001b[39;49m\u001b[39m\"\u001b[39;49m, x\u001b[39m=\u001b[39;49mx, y\u001b[39m=\u001b[39;49my, \u001b[39m*\u001b[39;49m\u001b[39m*\u001b[39;49mkwargs)\n",
      "File \u001b[1;32mc:\\Users\\Administrator\\AppData\\Local\\Programs\\Python\\Python312\\Lib\\site-packages\\pandas\\plotting\\_core.py:1031\u001b[0m, in \u001b[0;36mPlotAccessor.__call__\u001b[1;34m(self, *args, **kwargs)\u001b[0m\n\u001b[0;32m   1028\u001b[0m             label_name \u001b[39m=\u001b[39m label_kw \u001b[39mor\u001b[39;00m data\u001b[39m.\u001b[39mcolumns\n\u001b[0;32m   1029\u001b[0m             data\u001b[39m.\u001b[39mcolumns \u001b[39m=\u001b[39m label_name\n\u001b[1;32m-> 1031\u001b[0m \u001b[39mreturn\u001b[39;00m plot_backend\u001b[39m.\u001b[39;49mplot(data, kind\u001b[39m=\u001b[39;49mkind, \u001b[39m*\u001b[39;49m\u001b[39m*\u001b[39;49mkwargs)\n",
      "File \u001b[1;32mc:\\Users\\Administrator\\AppData\\Local\\Programs\\Python\\Python312\\Lib\\site-packages\\pandas\\plotting\\_matplotlib\\__init__.py:71\u001b[0m, in \u001b[0;36mplot\u001b[1;34m(data, kind, **kwargs)\u001b[0m\n\u001b[0;32m     69\u001b[0m         kwargs[\u001b[39m\"\u001b[39m\u001b[39max\u001b[39m\u001b[39m\"\u001b[39m] \u001b[39m=\u001b[39m \u001b[39mgetattr\u001b[39m(ax, \u001b[39m\"\u001b[39m\u001b[39mleft_ax\u001b[39m\u001b[39m\"\u001b[39m, ax)\n\u001b[0;32m     70\u001b[0m plot_obj \u001b[39m=\u001b[39m PLOT_CLASSES[kind](data, \u001b[39m*\u001b[39m\u001b[39m*\u001b[39mkwargs)\n\u001b[1;32m---> 71\u001b[0m plot_obj\u001b[39m.\u001b[39;49mgenerate()\n\u001b[0;32m     72\u001b[0m plot_obj\u001b[39m.\u001b[39mdraw()\n\u001b[0;32m     73\u001b[0m \u001b[39mreturn\u001b[39;00m plot_obj\u001b[39m.\u001b[39mresult\n",
      "File \u001b[1;32mc:\\Users\\Administrator\\AppData\\Local\\Programs\\Python\\Python312\\Lib\\site-packages\\pandas\\plotting\\_matplotlib\\core.py:453\u001b[0m, in \u001b[0;36mMPLPlot.generate\u001b[1;34m(self)\u001b[0m\n\u001b[0;32m    451\u001b[0m \u001b[39mself\u001b[39m\u001b[39m.\u001b[39m_compute_plot_data()\n\u001b[0;32m    452\u001b[0m \u001b[39mself\u001b[39m\u001b[39m.\u001b[39m_setup_subplots()\n\u001b[1;32m--> 453\u001b[0m \u001b[39mself\u001b[39;49m\u001b[39m.\u001b[39;49m_make_plot()\n\u001b[0;32m    454\u001b[0m \u001b[39mself\u001b[39m\u001b[39m.\u001b[39m_add_table()\n\u001b[0;32m    455\u001b[0m \u001b[39mself\u001b[39m\u001b[39m.\u001b[39m_make_legend()\n",
      "File \u001b[1;32mc:\\Users\\Administrator\\AppData\\Local\\Programs\\Python\\Python312\\Lib\\site-packages\\pandas\\plotting\\_matplotlib\\core.py:1739\u001b[0m, in \u001b[0;36mBarPlot._make_plot\u001b[1;34m(self)\u001b[0m\n\u001b[0;32m   1737\u001b[0m \u001b[39melse\u001b[39;00m:\n\u001b[0;32m   1738\u001b[0m     w \u001b[39m=\u001b[39m \u001b[39mself\u001b[39m\u001b[39m.\u001b[39mbar_width \u001b[39m/\u001b[39m K\n\u001b[1;32m-> 1739\u001b[0m     rect \u001b[39m=\u001b[39m \u001b[39mself\u001b[39;49m\u001b[39m.\u001b[39;49m_plot(\n\u001b[0;32m   1740\u001b[0m         ax,\n\u001b[0;32m   1741\u001b[0m         \u001b[39mself\u001b[39;49m\u001b[39m.\u001b[39;49max_pos \u001b[39m+\u001b[39;49m (i \u001b[39m+\u001b[39;49m \u001b[39m0.5\u001b[39;49m) \u001b[39m*\u001b[39;49m w,\n\u001b[0;32m   1742\u001b[0m         y,\n\u001b[0;32m   1743\u001b[0m         w,\n\u001b[0;32m   1744\u001b[0m         start\u001b[39m=\u001b[39;49mstart,\n\u001b[0;32m   1745\u001b[0m         label\u001b[39m=\u001b[39;49mlabel,\n\u001b[0;32m   1746\u001b[0m         log\u001b[39m=\u001b[39;49m\u001b[39mself\u001b[39;49m\u001b[39m.\u001b[39;49mlog,\n\u001b[0;32m   1747\u001b[0m         \u001b[39m*\u001b[39;49m\u001b[39m*\u001b[39;49mkwds,\n\u001b[0;32m   1748\u001b[0m     )\n\u001b[0;32m   1749\u001b[0m \u001b[39mself\u001b[39m\u001b[39m.\u001b[39m_append_legend_handles_labels(rect, label)\n",
      "File \u001b[1;32mc:\\Users\\Administrator\\AppData\\Local\\Programs\\Python\\Python312\\Lib\\site-packages\\pandas\\plotting\\_matplotlib\\core.py:1671\u001b[0m, in \u001b[0;36mBarPlot._plot\u001b[1;34m(cls, ax, x, y, w, start, log, **kwds)\u001b[0m\n\u001b[0;32m   1660\u001b[0m \u001b[39m@classmethod\u001b[39m\n\u001b[0;32m   1661\u001b[0m \u001b[39mdef\u001b[39;00m \u001b[39m_plot\u001b[39m(  \u001b[39m# type: ignore[override]\u001b[39;00m\n\u001b[0;32m   1662\u001b[0m     \u001b[39mcls\u001b[39m,\n\u001b[1;32m   (...)\u001b[0m\n\u001b[0;32m   1669\u001b[0m     \u001b[39m*\u001b[39m\u001b[39m*\u001b[39mkwds,\n\u001b[0;32m   1670\u001b[0m ):\n\u001b[1;32m-> 1671\u001b[0m     \u001b[39mreturn\u001b[39;00m ax\u001b[39m.\u001b[39;49mbar(x, y, w, bottom\u001b[39m=\u001b[39;49mstart, log\u001b[39m=\u001b[39;49mlog, \u001b[39m*\u001b[39;49m\u001b[39m*\u001b[39;49mkwds)\n",
      "File \u001b[1;32mc:\\Users\\Administrator\\AppData\\Local\\Programs\\Python\\Python312\\Lib\\site-packages\\matplotlib\\__init__.py:1478\u001b[0m, in \u001b[0;36m_preprocess_data.<locals>.inner\u001b[1;34m(ax, data, *args, **kwargs)\u001b[0m\n\u001b[0;32m   1475\u001b[0m \u001b[39m@functools\u001b[39m\u001b[39m.\u001b[39mwraps(func)\n\u001b[0;32m   1476\u001b[0m \u001b[39mdef\u001b[39;00m \u001b[39minner\u001b[39m(ax, \u001b[39m*\u001b[39margs, data\u001b[39m=\u001b[39m\u001b[39mNone\u001b[39;00m, \u001b[39m*\u001b[39m\u001b[39m*\u001b[39mkwargs):\n\u001b[0;32m   1477\u001b[0m     \u001b[39mif\u001b[39;00m data \u001b[39mis\u001b[39;00m \u001b[39mNone\u001b[39;00m:\n\u001b[1;32m-> 1478\u001b[0m         \u001b[39mreturn\u001b[39;00m func(ax, \u001b[39m*\u001b[39;49m\u001b[39mmap\u001b[39;49m(sanitize_sequence, args), \u001b[39m*\u001b[39;49m\u001b[39m*\u001b[39;49mkwargs)\n\u001b[0;32m   1480\u001b[0m     bound \u001b[39m=\u001b[39m new_sig\u001b[39m.\u001b[39mbind(ax, \u001b[39m*\u001b[39margs, \u001b[39m*\u001b[39m\u001b[39m*\u001b[39mkwargs)\n\u001b[0;32m   1481\u001b[0m     auto_label \u001b[39m=\u001b[39m (bound\u001b[39m.\u001b[39marguments\u001b[39m.\u001b[39mget(label_namer)\n\u001b[0;32m   1482\u001b[0m                   \u001b[39mor\u001b[39;00m bound\u001b[39m.\u001b[39mkwargs\u001b[39m.\u001b[39mget(label_namer))\n",
      "File \u001b[1;32mc:\\Users\\Administrator\\AppData\\Local\\Programs\\Python\\Python312\\Lib\\site-packages\\matplotlib\\axes\\_axes.py:2528\u001b[0m, in \u001b[0;36mAxes.bar\u001b[1;34m(self, x, height, width, bottom, align, **kwargs)\u001b[0m\n\u001b[0;32m   2519\u001b[0m \u001b[39mfor\u001b[39;00m l, b, w, h, c, e, lw, htch, lbl \u001b[39min\u001b[39;00m args:\n\u001b[0;32m   2520\u001b[0m     r \u001b[39m=\u001b[39m mpatches\u001b[39m.\u001b[39mRectangle(\n\u001b[0;32m   2521\u001b[0m         xy\u001b[39m=\u001b[39m(l, b), width\u001b[39m=\u001b[39mw, height\u001b[39m=\u001b[39mh,\n\u001b[0;32m   2522\u001b[0m         facecolor\u001b[39m=\u001b[39mc,\n\u001b[1;32m   (...)\u001b[0m\n\u001b[0;32m   2526\u001b[0m         hatch\u001b[39m=\u001b[39mhtch,\n\u001b[0;32m   2527\u001b[0m         )\n\u001b[1;32m-> 2528\u001b[0m     r\u001b[39m.\u001b[39;49m_internal_update(kwargs)\n\u001b[0;32m   2529\u001b[0m     r\u001b[39m.\u001b[39mget_path()\u001b[39m.\u001b[39m_interpolation_steps \u001b[39m=\u001b[39m \u001b[39m100\u001b[39m\n\u001b[0;32m   2530\u001b[0m     \u001b[39mif\u001b[39;00m orientation \u001b[39m==\u001b[39m \u001b[39m'\u001b[39m\u001b[39mvertical\u001b[39m\u001b[39m'\u001b[39m:\n",
      "File \u001b[1;32mc:\\Users\\Administrator\\AppData\\Local\\Programs\\Python\\Python312\\Lib\\site-packages\\matplotlib\\artist.py:1219\u001b[0m, in \u001b[0;36mArtist._internal_update\u001b[1;34m(self, kwargs)\u001b[0m\n\u001b[0;32m   1212\u001b[0m \u001b[39mdef\u001b[39;00m \u001b[39m_internal_update\u001b[39m(\u001b[39mself\u001b[39m, kwargs):\n\u001b[0;32m   1213\u001b[0m \u001b[39m    \u001b[39m\u001b[39m\"\"\"\u001b[39;00m\n\u001b[0;32m   1214\u001b[0m \u001b[39m    Update artist properties without prenormalizing them, but generating\u001b[39;00m\n\u001b[0;32m   1215\u001b[0m \u001b[39m    errors as if calling `set`.\u001b[39;00m\n\u001b[0;32m   1216\u001b[0m \n\u001b[0;32m   1217\u001b[0m \u001b[39m    The lack of prenormalization is to maintain backcompatibility.\u001b[39;00m\n\u001b[0;32m   1218\u001b[0m \u001b[39m    \"\"\"\u001b[39;00m\n\u001b[1;32m-> 1219\u001b[0m     \u001b[39mreturn\u001b[39;00m \u001b[39mself\u001b[39;49m\u001b[39m.\u001b[39;49m_update_props(\n\u001b[0;32m   1220\u001b[0m         kwargs, \u001b[39m\"\u001b[39;49m\u001b[39m{cls.__name__}\u001b[39;49;00m\u001b[39m.set() got an unexpected keyword argument \u001b[39;49m\u001b[39m\"\u001b[39;49m\n\u001b[0;32m   1221\u001b[0m         \u001b[39m\"\u001b[39;49m\u001b[39m{prop_name!r}\u001b[39;49;00m\u001b[39m\"\u001b[39;49m)\n",
      "File \u001b[1;32mc:\\Users\\Administrator\\AppData\\Local\\Programs\\Python\\Python312\\Lib\\site-packages\\matplotlib\\artist.py:1193\u001b[0m, in \u001b[0;36mArtist._update_props\u001b[1;34m(self, props, errfmt)\u001b[0m\n\u001b[0;32m   1191\u001b[0m             func \u001b[39m=\u001b[39m \u001b[39mgetattr\u001b[39m(\u001b[39mself\u001b[39m, \u001b[39mf\u001b[39m\u001b[39m\"\u001b[39m\u001b[39mset_\u001b[39m\u001b[39m{\u001b[39;00mk\u001b[39m}\u001b[39;00m\u001b[39m\"\u001b[39m, \u001b[39mNone\u001b[39;00m)\n\u001b[0;32m   1192\u001b[0m             \u001b[39mif\u001b[39;00m \u001b[39mnot\u001b[39;00m \u001b[39mcallable\u001b[39m(func):\n\u001b[1;32m-> 1193\u001b[0m                 \u001b[39mraise\u001b[39;00m \u001b[39mAttributeError\u001b[39;00m(\n\u001b[0;32m   1194\u001b[0m                     errfmt\u001b[39m.\u001b[39mformat(\u001b[39mcls\u001b[39m\u001b[39m=\u001b[39m\u001b[39mtype\u001b[39m(\u001b[39mself\u001b[39m), prop_name\u001b[39m=\u001b[39mk))\n\u001b[0;32m   1195\u001b[0m             ret\u001b[39m.\u001b[39mappend(func(v))\n\u001b[0;32m   1196\u001b[0m \u001b[39mif\u001b[39;00m ret:\n",
      "\u001b[1;31mAttributeError\u001b[0m: Rectangle.set() got an unexpected keyword argument 'colour'"
     ]
    },
    {
     "data": {
      "image/png": "[encoded data removed]",
      "text/plain": [
       "<Figure size 640x480 with 1 Axes>"
      ]
     },
     "metadata": {},
     "output_type": "display_data"
    }
   ],
   "source": [
    "# Enter your code here\n",
    "#df_journals[\"avg_cites_per_paper\"].plot.hist(bins=50)\n",
    "df_journals[\"avg_cites_per_paper\"].plot.bar(x=500,y=100)\n",
    "\n",
    "#Histogram - for frequency of data"
   ]
  },
  {
   "cell_type": "markdown",
   "metadata": {},
   "source": [
    "## Box and whisker plots\n",
    "Box and whisker plots are great for spoting outliers. Let's explore using a box and whisker plot."
   ]
  },
  {
   "cell_type": "markdown",
   "metadata": {},
   "source": [
    ">### Question 4\n",
    ">#### Try\n",
    ">The same way you've plotted the distribution, now make a box and whisker plot using the `boxplot` function ([documentation](https://matplotlib.org/3.1.1/api/_as_gen/matplotlib.pyplot.boxplot.html?highlight=boxplot#matplotlib.pyplot.boxplot)) for the numerical feature \"avg_cites_per_paper\". "
   ]
  },
  {
   "cell_type": "code",
   "execution_count": 50,
   "metadata": {},
   "outputs": [
    {
     "data": {
      "text/plain": [
       "<Axes: >"
      ]
     },
     "execution_count": 50,
     "metadata": {},
     "output_type": "execute_result"
    },
    {
     "data": {
      "image/png": "[encoded data removed]",
      "text/plain": [
       "<Figure size 640x480 with 1 Axes>"
      ]
     },
     "metadata": {},
     "output_type": "display_data"
    }
   ],
   "source": [
    "# Enter your code here\n",
    "df_journals.boxplot([\"avg_cites_per_paper\"])"
   ]
  },
  {
   "cell_type": "markdown",
   "metadata": {},
   "source": [
    "#### Learn \n",
    "Notice that the box and whisker plot helps to spot outliers."
   ]
  },
  {
   "cell_type": "markdown",
   "metadata": {},
   "source": [
    "#### Learn\n",
    "Now, let's use a more interesting technique to remove outliers using the percentiles.\n",
    "\n",
    "To print the percentiles of the dataset's numerical values, use the **.describe()** command."
   ]
  },
  {
   "cell_type": "code",
   "execution_count": 30,
   "metadata": {},
   "outputs": [
    {
     "data": {
      "text/html": [
       "<div>\n",
       "<style scoped>\n",
       "    .dataframe tbody tr th:only-of-type {\n",
       "        vertical-align: middle;\n",
       "    }\n",
       "\n",
       "    .dataframe tbody tr th {\n",
       "        vertical-align: top;\n",
       "    }\n",
       "\n",
       "    .dataframe thead th {\n",
       "        text-align: right;\n",
       "    }\n",
       "</style>\n",
       "<table border=\"1\" class=\"dataframe\">\n",
       "  <thead>\n",
       "    <tr style=\"text-align: right;\">\n",
       "      <th></th>\n",
       "      <th>citation_count_sum</th>\n",
       "      <th>paper_count_sum</th>\n",
       "      <th>avg_cites_per_paper</th>\n",
       "      <th>proj_ai</th>\n",
       "    </tr>\n",
       "  </thead>\n",
       "  <tbody>\n",
       "    <tr>\n",
       "      <th>count</th>\n",
       "      <td>3615.000000</td>\n",
       "      <td>3615.000000</td>\n",
       "      <td>3615.000000</td>\n",
       "      <td>3615.000000</td>\n",
       "    </tr>\n",
       "    <tr>\n",
       "      <th>mean</th>\n",
       "      <td>1446.713850</td>\n",
       "      <td>509.671107</td>\n",
       "      <td>2.118970</td>\n",
       "      <td>0.516554</td>\n",
       "    </tr>\n",
       "    <tr>\n",
       "      <th>std</th>\n",
       "      <td>7983.573195</td>\n",
       "      <td>1920.708341</td>\n",
       "      <td>1.685032</td>\n",
       "      <td>0.571603</td>\n",
       "    </tr>\n",
       "    <tr>\n",
       "      <th>min</th>\n",
       "      <td>0.000000</td>\n",
       "      <td>1.000000</td>\n",
       "      <td>0.000000</td>\n",
       "      <td>0.000000</td>\n",
       "    </tr>\n",
       "    <tr>\n",
       "      <th>25%</th>\n",
       "      <td>151.000000</td>\n",
       "      <td>107.000000</td>\n",
       "      <td>1.056067</td>\n",
       "      <td>0.199000</td>\n",
       "    </tr>\n",
       "    <tr>\n",
       "      <th>50%</th>\n",
       "      <td>424.000000</td>\n",
       "      <td>240.000000</td>\n",
       "      <td>1.722628</td>\n",
       "      <td>0.368000</td>\n",
       "    </tr>\n",
       "    <tr>\n",
       "      <th>75%</th>\n",
       "      <td>1113.500000</td>\n",
       "      <td>520.500000</td>\n",
       "      <td>2.705021</td>\n",
       "      <td>0.649500</td>\n",
       "    </tr>\n",
       "    <tr>\n",
       "      <th>max</th>\n",
       "      <td>426949.000000</td>\n",
       "      <td>104705.000000</td>\n",
       "      <td>26.318824</td>\n",
       "      <td>11.367000</td>\n",
       "    </tr>\n",
       "  </tbody>\n",
       "</table>\n",
       "</div>"
      ],
      "text/plain": [
       "       citation_count_sum  paper_count_sum  avg_cites_per_paper      proj_ai\n",
       "count         3615.000000      3615.000000          3615.000000  3615.000000\n",
       "mean          1446.713850       509.671107             2.118970     0.516554\n",
       "std           7983.573195      1920.708341             1.685032     0.571603\n",
       "min              0.000000         1.000000             0.000000     0.000000\n",
       "25%            151.000000       107.000000             1.056067     0.199000\n",
       "50%            424.000000       240.000000             1.722628     0.368000\n",
       "75%           1113.500000       520.500000             2.705021     0.649500\n",
       "max         426949.000000    104705.000000            26.318824    11.367000"
      ]
     },
     "execution_count": 30,
     "metadata": {},
     "output_type": "execute_result"
    }
   ],
   "source": [
    "df_journals.describe()"
   ]
  },
  {
   "cell_type": "markdown",
   "metadata": {},
   "source": [
    "## Correlations: Multivariate statistics\n",
    "#### Try\n",
    "Use a correlation matrix for all features, plotting a scatter plot for each combination of numerical features in your dataset."
   ]
  },
  {
   "cell_type": "code",
   "execution_count": 51,
   "metadata": {},
   "outputs": [
    {
     "data": {
      "image/png": "[encoded data removed]",
      "text/plain": [
       "<Figure size 1000x1000 with 20 Axes>"
      ]
     },
     "metadata": {},
     "output_type": "display_data"
    }
   ],
   "source": [
    "#High Dimensional Data : Too many features an dthere is a strong corelation between features\n",
    "\n",
    "numerical_df = df_journals[[\"citation_count_sum\", \"paper_count_sum\",\"avg_cites_per_paper\",\"proj_ai\"]]\n",
    "sns.set()\n",
    "grid = sns.pairplot(numerical_df)"
   ]
  },
  {
   "cell_type": "markdown",
   "metadata": {},
   "source": [
    "#### Is it broken?\n",
    "There is one highly correlated feature."
   ]
  },
  {
   "cell_type": "markdown",
   "metadata": {},
   "source": [
    "#### Learn\n",
    "There is a strong nonlinear correlation between proj_ai x avg_cites_per_paper.\n",
    "There is also some correlation between other variables here.\n",
    "But we need numbers to make a decision whether to remove some highly correlated feature.\n",
    "For this, a heat map with values is useful.\n",
    "\n",
    "Use a `heatmap` ([documentation](https://pandas.pydata.org/pandas-docs/stable/reference/api/pandas.DataFrame.corr.html?highlight=corr#pandas.DataFrame.corr)) to confirm the correlation between the variables and the target, after removing the correlation. "
   ]
  },
  {
   "cell_type": "markdown",
   "metadata": {},
   "source": [
    "\n",
    ">Use the `corr` function ([documentation](https://pandas.pydata.org/pandas-docs/stable/reference/api/pandas.DataFrame.corr.html?highlight=corr#pandas.DataFrame.corr)) in the df_journal dataframe to print the correlations."
   ]
  },
  {
   "cell_type": "code",
   "execution_count": 52,
   "metadata": {},
   "outputs": [
    {
     "data": {
      "image/png": "[encoded data removed]",
      "text/plain": [
       "<Figure size 640x480 with 2 Axes>"
      ]
     },
     "metadata": {},
     "output_type": "display_data"
    }
   ],
   "source": [
    "# Enter your code here\n",
    "corr = numerical_df.corr()\n",
    "ax = sns.heatmap(corr, annot=True)"
   ]
  },
  {
   "cell_type": "markdown",
   "metadata": {},
   "source": [
    "##### Learn\n",
    "Notice that the diagonal is always 1 (one), because it represents the variable against itself.\n",
    "\n",
    "##### Is it broken?\n",
    "The **proj_ai** and **avg_cites_per_paper** variables are highly correlated (over 99%). \n",
    "\n",
    "##### Fix\n",
    "Let's try removing one of them. You will remove the **proj_ai** feature from the dataset."
   ]
  },
  {
   "cell_type": "code",
   "execution_count": 53,
   "metadata": {},
   "outputs": [],
   "source": [
    "del numerical_df[\"proj_ai\"]"
   ]
  },
  {
   "cell_type": "markdown",
   "metadata": {},
   "source": [
    "#### Learn\n",
    "Use another `heatmap` to confirm the correlation between the variables and the target, after removing the correlation. "
   ]
  },
  {
   "cell_type": "code",
   "execution_count": 54,
   "metadata": {},
   "outputs": [
    {
     "data": {
      "image/png": "[encoded data removed]",
      "text/plain": [
       "<Figure size 640x480 with 2 Axes>"
      ]
     },
     "metadata": {},
     "output_type": "display_data"
    }
   ],
   "source": [
    "corr = numerical_df.corr()\n",
    "ax = sns.heatmap(corr, annot=True,)"
   ]
  },
  {
   "cell_type": "markdown",
   "metadata": {},
   "source": [
    "### Good work!\n",
    "Now you have a dataset cleaned and ready to pass to the modeling step.\n"
   ]
  }
 ],
 "metadata": {
  "kernelspec": {
   "display_name": "Python 3",
   "language": "python",
   "name": "python3"
  },
  "language_info": {
   "codemirror_mode": {
    "name": "ipython",
    "version": 3
   },
   "file_extension": ".py",
   "mimetype": "text/x-python",
   "name": "python",
   "nbconvert_exporter": "python",
   "pygments_lexer": "ipython3",
   "version": "3.12.0"
  }
 },
 "nbformat": 4,
 "nbformat_minor": 2
}
