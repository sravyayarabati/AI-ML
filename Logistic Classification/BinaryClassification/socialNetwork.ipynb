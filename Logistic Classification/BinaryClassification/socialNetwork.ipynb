{
 "cells": [
  {
   "cell_type": "code",
   "execution_count": 1,
   "metadata": {},
   "outputs": [],
   "source": [
    "import numpy as np\n",
    "import pandas as pd\n",
    "import seaborn as sas\n",
    "import matplotlib.pyplot as plt\n",
    "%matplotlib inline"
   ]
  },
  {
   "cell_type": "code",
   "execution_count": 2,
   "metadata": {},
   "outputs": [],
   "source": [
    "df=pd.read_csv(\"Social_Network_Ads.csv\");"
   ]
  },
  {
   "cell_type": "code",
   "execution_count": 3,
   "metadata": {},
   "outputs": [
    {
     "data": {
      "text/html": [
       "<div>\n",
       "<style scoped>\n",
       "    .dataframe tbody tr th:only-of-type {\n",
       "        vertical-align: middle;\n",
       "    }\n",
       "\n",
       "    .dataframe tbody tr th {\n",
       "        vertical-align: top;\n",
       "    }\n",
       "\n",
       "    .dataframe thead th {\n",
       "        text-align: right;\n",
       "    }\n",
       "</style>\n",
       "<table border=\"1\" class=\"dataframe\">\n",
       "  <thead>\n",
       "    <tr style=\"text-align: right;\">\n",
       "      <th></th>\n",
       "      <th>Age</th>\n",
       "      <th>EstimatedSalary</th>\n",
       "      <th>Purchased</th>\n",
       "    </tr>\n",
       "  </thead>\n",
       "  <tbody>\n",
       "    <tr>\n",
       "      <th>0</th>\n",
       "      <td>19</td>\n",
       "      <td>19000</td>\n",
       "      <td>0</td>\n",
       "    </tr>\n",
       "    <tr>\n",
       "      <th>1</th>\n",
       "      <td>35</td>\n",
       "      <td>20000</td>\n",
       "      <td>0</td>\n",
       "    </tr>\n",
       "    <tr>\n",
       "      <th>2</th>\n",
       "      <td>26</td>\n",
       "      <td>43000</td>\n",
       "      <td>0</td>\n",
       "    </tr>\n",
       "    <tr>\n",
       "      <th>3</th>\n",
       "      <td>27</td>\n",
       "      <td>57000</td>\n",
       "      <td>0</td>\n",
       "    </tr>\n",
       "    <tr>\n",
       "      <th>4</th>\n",
       "      <td>19</td>\n",
       "      <td>76000</td>\n",
       "      <td>0</td>\n",
       "    </tr>\n",
       "    <tr>\n",
       "      <th>...</th>\n",
       "      <td>...</td>\n",
       "      <td>...</td>\n",
       "      <td>...</td>\n",
       "    </tr>\n",
       "    <tr>\n",
       "      <th>395</th>\n",
       "      <td>46</td>\n",
       "      <td>41000</td>\n",
       "      <td>1</td>\n",
       "    </tr>\n",
       "    <tr>\n",
       "      <th>396</th>\n",
       "      <td>51</td>\n",
       "      <td>23000</td>\n",
       "      <td>1</td>\n",
       "    </tr>\n",
       "    <tr>\n",
       "      <th>397</th>\n",
       "      <td>50</td>\n",
       "      <td>20000</td>\n",
       "      <td>1</td>\n",
       "    </tr>\n",
       "    <tr>\n",
       "      <th>398</th>\n",
       "      <td>36</td>\n",
       "      <td>33000</td>\n",
       "      <td>0</td>\n",
       "    </tr>\n",
       "    <tr>\n",
       "      <th>399</th>\n",
       "      <td>49</td>\n",
       "      <td>36000</td>\n",
       "      <td>1</td>\n",
       "    </tr>\n",
       "  </tbody>\n",
       "</table>\n",
       "<p>400 rows × 3 columns</p>\n",
       "</div>"
      ],
      "text/plain": [
       "     Age  EstimatedSalary  Purchased\n",
       "0     19            19000          0\n",
       "1     35            20000          0\n",
       "2     26            43000          0\n",
       "3     27            57000          0\n",
       "4     19            76000          0\n",
       "..   ...              ...        ...\n",
       "395   46            41000          1\n",
       "396   51            23000          1\n",
       "397   50            20000          1\n",
       "398   36            33000          0\n",
       "399   49            36000          1\n",
       "\n",
       "[400 rows x 3 columns]"
      ]
     },
     "execution_count": 3,
     "metadata": {},
     "output_type": "execute_result"
    }
   ],
   "source": [
    "df"
   ]
  },
  {
   "cell_type": "code",
   "execution_count": 4,
   "metadata": {},
   "outputs": [
    {
     "data": {
      "text/plain": [
       "Age                False\n",
       "EstimatedSalary    False\n",
       "Purchased          False\n",
       "dtype: bool"
      ]
     },
     "execution_count": 4,
     "metadata": {},
     "output_type": "execute_result"
    }
   ],
   "source": [
    "df.isnull().any()"
   ]
  },
  {
   "cell_type": "code",
   "execution_count": 5,
   "metadata": {},
   "outputs": [
    {
     "name": "stdout",
     "output_type": "stream",
     "text": [
      "<class 'pandas.core.frame.DataFrame'>\n",
      "RangeIndex: 400 entries, 0 to 399\n",
      "Data columns (total 3 columns):\n",
      " #   Column           Non-Null Count  Dtype\n",
      "---  ------           --------------  -----\n",
      " 0   Age              400 non-null    int64\n",
      " 1   EstimatedSalary  400 non-null    int64\n",
      " 2   Purchased        400 non-null    int64\n",
      "dtypes: int64(3)\n",
      "memory usage: 9.5 KB\n"
     ]
    }
   ],
   "source": [
    "df.info()"
   ]
  },
  {
   "cell_type": "code",
   "execution_count": 7,
   "metadata": {},
   "outputs": [
    {
     "data": {
      "text/plain": [
       "Purchased\n",
       "0    257\n",
       "1    143\n",
       "Name: count, dtype: int64"
      ]
     },
     "execution_count": 7,
     "metadata": {},
     "output_type": "execute_result"
    }
   ],
   "source": [
    "df['Purchased'].value_counts()"
   ]
  },
  {
   "cell_type": "code",
   "execution_count": 3,
   "metadata": {},
   "outputs": [],
   "source": [
    "X=df.drop(['Purchased'],axis=1)"
   ]
  },
  {
   "cell_type": "code",
   "execution_count": 16,
   "metadata": {},
   "outputs": [
    {
     "data": {
      "text/plain": [
       "(400, 2)"
      ]
     },
     "execution_count": 16,
     "metadata": {},
     "output_type": "execute_result"
    }
   ],
   "source": [
    "X.shape"
   ]
  },
  {
   "cell_type": "code",
   "execution_count": 4,
   "metadata": {},
   "outputs": [
    {
     "data": {
      "text/plain": [
       "(400,)"
      ]
     },
     "execution_count": 4,
     "metadata": {},
     "output_type": "execute_result"
    }
   ],
   "source": [
    "Y=df['Purchased']\n",
    "Y.shape"
   ]
  },
  {
   "cell_type": "code",
   "execution_count": 5,
   "metadata": {},
   "outputs": [],
   "source": [
    "from sklearn.model_selection import train_test_split\n",
    "X_train,X_test,Y_train,Y_test=train_test_split(X,Y,test_size=0.2,random_state=5)"
   ]
  },
  {
   "cell_type": "code",
   "execution_count": 34,
   "metadata": {},
   "outputs": [
    {
     "data": {
      "text/plain": [
       "(320, 2)"
      ]
     },
     "execution_count": 34,
     "metadata": {},
     "output_type": "execute_result"
    }
   ],
   "source": [
    "X_train.shape"
   ]
  },
  {
   "cell_type": "code",
   "execution_count": 35,
   "metadata": {},
   "outputs": [
    {
     "data": {
      "text/plain": [
       "(320,)"
      ]
     },
     "execution_count": 35,
     "metadata": {},
     "output_type": "execute_result"
    }
   ],
   "source": [
    "Y_train.shape"
   ]
  },
  {
   "cell_type": "code",
   "execution_count": 30,
   "metadata": {},
   "outputs": [
    {
     "data": {
      "text/plain": [
       "(120,)"
      ]
     },
     "execution_count": 30,
     "metadata": {},
     "output_type": "execute_result"
    }
   ],
   "source": [
    "Y_test.shape"
   ]
  },
  {
   "cell_type": "code",
   "execution_count": 6,
   "metadata": {},
   "outputs": [],
   "source": [
    "from sklearn.linear_model import LogisticRegression\n",
    "\n",
    "lr=LogisticRegression()\n"
   ]
  },
  {
   "cell_type": "code",
   "execution_count": 7,
   "metadata": {},
   "outputs": [],
   "source": [
    "from sklearn.preprocessing import StandardScaler\n",
    "sc=StandardScaler()\n",
    "X_train=sc.fit_transform(X_train)       # Feature scaling\n",
    "X_test=sc.transform(X_test)\n"
   ]
  },
  {
   "cell_type": "code",
   "execution_count": 8,
   "metadata": {},
   "outputs": [
    {
     "data": {
      "text/plain": [
       "array([[-0.27257222,  0.81711559],\n",
       "       [-0.27257222,  1.14463175],\n",
       "       [ 0.48837095,  1.26372853],\n",
       "       [-1.12863329, -1.11820715],\n",
       "       [-1.41398698, -0.64182001],\n",
       "       [ 2.10537519, -0.82046519],\n",
       "       [-1.69934067,  0.13230908],\n",
       "       [-0.17745433, -0.28452966],\n",
       "       [-0.27257222,  0.07276069],\n",
       "       [-1.69934067,  0.48959944],\n",
       "       [-0.17745433, -0.46317484],\n",
       "       [ 1.6297857 ,  1.65079308],\n",
       "       [-0.08233643,  0.31095426],\n",
       "       [-0.08233643, -0.37385225],\n",
       "       [-1.88957646, -0.52272323],\n",
       "       [ 0.01278147,  0.0429865 ],\n",
       "       [-0.27257222, -0.58227162],\n",
       "       [-0.55792591,  1.41259951],\n",
       "       [ 2.01025729,  2.18672861],\n",
       "       [ 0.77372464, -1.23730393],\n",
       "       [ 0.77372464, -1.38617491],\n",
       "       [-0.9383975 , -0.7609168 ],\n",
       "       [ 1.24931412, -1.38617491],\n",
       "       [ 0.10789936,  1.08508336],\n",
       "       [-0.27257222, -0.58227162],\n",
       "       [-1.12863329,  0.48959944],\n",
       "       [-1.03351539,  0.43005104],\n",
       "       [-1.12863329,  0.31095426],\n",
       "       [ 1.53466781,  1.14463175],\n",
       "       [-0.9383975 , -0.31430386],\n",
       "       [ 2.01025729, -0.82046519],\n",
       "       [ 0.10789936, -0.82046519],\n",
       "       [ 2.01025729,  0.54914783],\n",
       "       [ 0.86884253, -0.55249743],\n",
       "       [-0.27257222,  0.10253489],\n",
       "       [-0.8432796 ,  0.16208328],\n",
       "       [ 0.29813516, -0.28452966],\n",
       "       [-0.27257222, -0.28452966],\n",
       "       [ 0.39325305,  2.36537379],\n",
       "       [ 1.7249036 ,  1.88898665],\n",
       "       [ 0.20301726, -0.25475546],\n",
       "       [ 1.05907833, -1.23730393],\n",
       "       [-0.17745433, -0.58227162],\n",
       "       [ 1.43954991,  0.37050265],\n",
       "       [-0.27257222, -1.41594911],\n",
       "       [ 0.96396043, -1.08843295],\n",
       "       [ 1.8200215 , -0.28452966],\n",
       "       [-0.27257222,  0.54914783],\n",
       "       [-1.12863329, -1.62436848],\n",
       "       [-1.41398698, -1.4754975 ],\n",
       "       [-0.08233643, -0.52272323],\n",
       "       [-1.22375118,  0.28118006],\n",
       "       [-0.17745433,  1.68056728],\n",
       "       [ 0.96396043, -1.02888456],\n",
       "       [-0.8432796 ,  0.31095426],\n",
       "       [-1.50910487, -1.53504589],\n",
       "       [ 1.7249036 , -0.28452966],\n",
       "       [ 0.96396043,  2.12718022],\n",
       "       [-0.55792591,  1.41259951],\n",
       "       [ 1.53466781,  0.0132123 ],\n",
       "       [-1.03351539, -1.14798135],\n",
       "       [ 0.01278147, -0.58227162],\n",
       "       [ 0.86884253, -1.4754975 ],\n",
       "       [ 1.34443202,  2.39514798],\n",
       "       [-0.7481617 , -0.22498127],\n",
       "       [-1.22375118,  0.51937363],\n",
       "       [-1.88957646, -0.7609168 ],\n",
       "       [ 0.77372464,  0.37050265],\n",
       "       [-1.12863329, -0.52272323],\n",
       "       [ 0.67860674, -1.29685233],\n",
       "       [-1.41398698,  0.37050265],\n",
       "       [ 0.58348885,  2.06763183],\n",
       "       [ 0.86884253, -1.38617491],\n",
       "       [-0.27257222, -1.32662652],\n",
       "       [-1.50910487, -0.19520707],\n",
       "       [-1.12863329, -1.02888456],\n",
       "       [-1.79445856,  0.19185748],\n",
       "       [ 0.01278147, -0.43340064],\n",
       "       [-0.55792591,  0.48959944],\n",
       "       [-0.8432796 ,  2.33559959],\n",
       "       [ 0.29813516, -0.52272323],\n",
       "       [ 1.53466781,  1.02553496],\n",
       "       [-0.08233643,  0.31095426],\n",
       "       [ 0.86884253,  1.05530916],\n",
       "       [-1.69934067,  0.37050265],\n",
       "       [ 0.86884253, -1.05865876],\n",
       "       [-0.9383975 , -0.43340064],\n",
       "       [-0.8432796 , -1.23730393],\n",
       "       [-0.55792591,  1.94853504],\n",
       "       [ 0.20301726, -0.37385225],\n",
       "       [-0.27257222, -0.34407805],\n",
       "       [-0.27257222,  0.63847042],\n",
       "       [-0.7481617 , -0.61204582],\n",
       "       [ 0.29813516, -0.31430386],\n",
       "       [ 0.29813516, -0.55249743],\n",
       "       [-0.27257222, -0.93956197],\n",
       "       [-0.08233643,  0.0429865 ],\n",
       "       [ 0.39325305,  0.31095426],\n",
       "       [-1.50910487, -0.43340064],\n",
       "       [ 0.58348885, -0.90978778],\n",
       "       [-1.12863329, -0.79069099],\n",
       "       [-0.27257222, -0.7609168 ],\n",
       "       [-0.46280801, -1.14798135],\n",
       "       [ 0.67860674, -1.41594911],\n",
       "       [-1.03351539, -0.37385225],\n",
       "       [ 1.43954991,  0.07276069],\n",
       "       [ 2.10537519,  0.96598657],\n",
       "       [-0.8432796 , -0.79069099],\n",
       "       [ 0.10789936,  1.91876085],\n",
       "       [ 0.10789936,  0.0429865 ],\n",
       "       [-1.60422277, -0.04633609],\n",
       "       [ 0.39325305, -0.46317484],\n",
       "       [-0.08233643, -0.22498127],\n",
       "       [-1.12863329,  0.31095426],\n",
       "       [-0.27257222, -0.31430386],\n",
       "       [ 0.39325305, -0.49294903],\n",
       "       [ 1.8200215 ,  0.13230908],\n",
       "       [ 0.77372464, -0.31430386],\n",
       "       [ 0.29813516, -0.52272323],\n",
       "       [ 0.01278147, -0.13565868],\n",
       "       [-0.27257222, -0.25475546],\n",
       "       [-1.31886908,  0.57892202],\n",
       "       [ 1.34443202, -0.93956197],\n",
       "       [-0.65304381,  1.44237371],\n",
       "       [ 0.20301726, -0.67159421],\n",
       "       [-0.36769012,  0.07276069],\n",
       "       [ 1.05907833,  0.54914783],\n",
       "       [-0.27257222,  0.16208328],\n",
       "       [-0.65304381,  0.0429865 ],\n",
       "       [-1.12863329, -1.56482009],\n",
       "       [-1.69934067, -0.99911037],\n",
       "       [-0.55792591, -1.53504589],\n",
       "       [-1.03351539, -1.56482009],\n",
       "       [ 0.01278147,  1.29350273],\n",
       "       [ 2.01025729,  1.79966406],\n",
       "       [-0.17745433, -1.08843295],\n",
       "       [-0.08233643, -1.08843295],\n",
       "       [ 1.05907833, -0.90978778],\n",
       "       [-0.7481617 , -1.56482009],\n",
       "       [ 0.67860674, -1.41594911],\n",
       "       [-0.08233643,  0.22163167],\n",
       "       [-0.17745433,  2.21650281],\n",
       "       [ 0.39325305,  0.0132123 ],\n",
       "       [ 1.91513939,  2.21650281],\n",
       "       [ 0.01278147,  1.26372853],\n",
       "       [ 0.77372464,  0.54914783],\n",
       "       [ 1.8200215 ,  1.56147049],\n",
       "       [ 1.91513939, -1.38617491],\n",
       "       [-1.03351539,  0.60869622],\n",
       "       [ 0.39325305,  0.10253489],\n",
       "       [ 0.39325305,  1.02553496],\n",
       "       [-0.65304381, -0.04633609],\n",
       "       [-0.9383975 ,  0.45982524],\n",
       "       [-0.9383975 ,  1.59124469],\n",
       "       [ 0.39325305,  0.31095426],\n",
       "       [ 1.05907833,  0.57892202],\n",
       "       [ 0.29813516, -0.19520707],\n",
       "       [ 0.77372464, -1.41594911],\n",
       "       [-0.7481617 ,  0.28118006],\n",
       "       [-0.17745433,  0.87666398],\n",
       "       [-0.27257222,  0.0429865 ],\n",
       "       [ 0.77372464, -1.11820715],\n",
       "       [-1.79445856, -1.44572331],\n",
       "       [ 1.34443202,  2.03785763],\n",
       "       [-0.27257222, -0.13565868],\n",
       "       [-1.12863329,  0.43005104],\n",
       "       [ 0.77372464, -0.85023939],\n",
       "       [-1.50910487, -1.26707813],\n",
       "       [-0.8432796 , -0.79069099],\n",
       "       [-0.65304381,  0.19185748],\n",
       "       [-1.03351539, -0.34407805],\n",
       "       [ 0.96396043, -1.20752974],\n",
       "       [ 0.29813516,  0.51937363],\n",
       "       [-1.31886908, -1.38617491],\n",
       "       [ 0.29813516, -0.7311426 ],\n",
       "       [-0.27257222, -1.4754975 ],\n",
       "       [ 1.34443202,  0.60869622],\n",
       "       [ 2.10537519,  1.14463175],\n",
       "       [ 0.39325305, -0.13565868],\n",
       "       [-1.79445856,  0.0132123 ],\n",
       "       [-0.65304381, -0.34407805],\n",
       "       [ 1.91513939, -0.67159421],\n",
       "       [-1.03351539,  0.54914783],\n",
       "       [-0.36769012,  1.35305112],\n",
       "       [ 0.01278147, -0.25475546],\n",
       "       [ 0.39325305, -0.46317484],\n",
       "       [ 2.01025729, -1.20752974],\n",
       "       [-0.7481617 ,  0.57892202],\n",
       "       [ 0.29813516,  0.28118006],\n",
       "       [-0.08233643,  0.69801881],\n",
       "       [ 0.10789936,  1.91876085],\n",
       "       [-0.27257222, -0.90978778],\n",
       "       [-0.8432796 , -0.25475546],\n",
       "       [ 0.86884253,  2.21650281],\n",
       "       [-0.08233643,  0.07276069],\n",
       "       [-1.69934067,  0.37050265],\n",
       "       [ 0.10789936, -0.31430386],\n",
       "       [ 1.05907833, -0.99911037],\n",
       "       [-0.9383975 ,  0.28118006],\n",
       "       [-0.9383975 ,  0.57892202],\n",
       "       [ 0.48837095,  1.88898665],\n",
       "       [ 0.10789936,  0.16208328],\n",
       "       [-0.55792591,  1.5019221 ],\n",
       "       [-1.22375118,  0.31095426],\n",
       "       [-0.17745433, -0.19520707],\n",
       "       [ 2.01025729,  0.19185748],\n",
       "       [-0.17745433,  1.44237371],\n",
       "       [ 0.20301726,  0.16208328],\n",
       "       [ 0.96396043,  0.13230908],\n",
       "       [ 0.20301726, -0.28452966],\n",
       "       [-0.8432796 , -0.67159421],\n",
       "       [-0.46280801, -1.23730393],\n",
       "       [ 1.7249036 ,  1.02553496],\n",
       "       [-1.69934067, -0.61204582],\n",
       "       [-0.27257222,  0.22163167],\n",
       "       [ 0.96396043, -0.85023939],\n",
       "       [ 0.77372464,  0.13230908],\n",
       "       [ 1.43954991,  2.18672861],\n",
       "       [ 0.29813516,  0.31095426],\n",
       "       [-0.55792591, -1.53504589],\n",
       "       [ 0.01278147, -0.58227162],\n",
       "       [-0.55792591,  0.90643818],\n",
       "       [-1.69934067, -1.38617491],\n",
       "       [-1.22375118, -1.41594911],\n",
       "       [ 0.01278147,  0.0429865 ],\n",
       "       [-0.27257222, -1.26707813],\n",
       "       [ 1.34443202,  1.32327693],\n",
       "       [-0.08233643, -0.49294903],\n",
       "       [-0.17745433,  0.16208328],\n",
       "       [ 1.05907833, -0.13565868],\n",
       "       [-0.65304381, -1.53504589],\n",
       "       [-0.27257222,  0.07276069],\n",
       "       [ 2.10537519,  0.40027685],\n",
       "       [-1.12863329, -1.59459429],\n",
       "       [ 1.05907833,  0.48959944],\n",
       "       [ 0.20301726,  0.0429865 ],\n",
       "       [-1.88957646,  0.48959944],\n",
       "       [ 0.39325305, -0.13565868],\n",
       "       [ 1.05907833, -1.23730393],\n",
       "       [ 0.96396043,  0.60869622],\n",
       "       [ 2.01025729,  0.40027685],\n",
       "       [ 1.43954991,  1.02553496],\n",
       "       [ 0.86884253, -0.79069099],\n",
       "       [ 0.39325305,  0.60869622],\n",
       "       [ 0.10789936,  1.56147049],\n",
       "       [-1.41398698, -1.23730393],\n",
       "       [-1.12863329,  1.44237371],\n",
       "       [-1.60422277, -1.59459429],\n",
       "       [-1.03351539,  2.00808343],\n",
       "       [ 0.20301726,  1.11485755],\n",
       "       [ 0.77372464,  0.28118006],\n",
       "       [-0.46280801, -0.85023939],\n",
       "       [-0.36769012, -0.79069099],\n",
       "       [ 1.53466781, -1.29685233],\n",
       "       [-0.08233643,  0.28118006],\n",
       "       [-1.12863329,  0.07276069],\n",
       "       [ 0.39325305,  1.14463175],\n",
       "       [ 0.48837095,  1.76988987],\n",
       "       [-1.88957646,  0.37050265],\n",
       "       [-0.8432796 ,  0.40027685],\n",
       "       [ 0.86884253, -1.32662652],\n",
       "       [-0.27257222,  0.16208328],\n",
       "       [ 0.20301726,  0.25140587],\n",
       "       [-0.08233643,  0.25140587],\n",
       "       [-0.9383975 ,  0.51937363],\n",
       "       [-0.7481617 ,  1.38282532],\n",
       "       [-0.46280801, -0.79069099],\n",
       "       [ 0.96396043, -1.17775554],\n",
       "       [-0.08233643,  0.13230908],\n",
       "       [-1.31886908,  0.43005104],\n",
       "       [ 0.96396043, -1.08843295],\n",
       "       [ 0.01278147,  0.31095426],\n",
       "       [-1.41398698, -0.19520707],\n",
       "       [ 1.24931412,  2.2760512 ],\n",
       "       [ 1.8200215 , -1.29685233],\n",
       "       [ 0.29813516, -1.17775554],\n",
       "       [-1.60422277,  0.07276069],\n",
       "       [-0.27257222, -0.37385225],\n",
       "       [ 0.96396043,  1.82943826],\n",
       "       [ 1.91513939,  0.7575672 ],\n",
       "       [ 0.96396043,  2.03785763],\n",
       "       [ 1.8200215 , -1.08843295],\n",
       "       [-0.65304381, -1.05865876],\n",
       "       [ 1.43954991, -1.05865876],\n",
       "       [-0.46280801, -0.0165619 ],\n",
       "       [ 0.10789936,  0.0429865 ],\n",
       "       [ 0.29813516,  0.07276069],\n",
       "       [ 0.10789936,  0.28118006],\n",
       "       [-1.03351539, -0.34407805],\n",
       "       [-0.36769012, -1.32662652],\n",
       "       [-0.46280801,  2.36537379],\n",
       "       [ 0.96396043,  0.7873414 ],\n",
       "       [-0.46280801, -0.55249743],\n",
       "       [ 0.86884253, -0.58227162],\n",
       "       [-0.7481617 ,  1.11485755],\n",
       "       [ 1.15419622, -0.7609168 ],\n",
       "       [-1.03351539,  0.7873414 ],\n",
       "       [ 0.10789936, -0.25475546],\n",
       "       [-1.31886908, -0.43340064],\n",
       "       [-0.65304381,  0.13230908],\n",
       "       [-1.31886908, -0.34407805],\n",
       "       [ 0.29813516,  0.0429865 ],\n",
       "       [ 0.86884253, -0.67159421],\n",
       "       [-0.9383975 ,  0.43005104],\n",
       "       [ 0.86884253, -1.17775554],\n",
       "       [-0.7481617 ,  0.31095426],\n",
       "       [-0.08233643, -0.43340064],\n",
       "       [ 1.91513939,  0.93621238],\n",
       "       [-0.55792591,  2.39514798],\n",
       "       [ 0.20301726,  2.15695441],\n",
       "       [-1.12863329, -1.17775554],\n",
       "       [ 0.01278147, -0.25475546],\n",
       "       [ 0.10789936, -0.82046519],\n",
       "       [ 0.20301726,  0.07276069],\n",
       "       [-1.22375118, -1.08843295],\n",
       "       [-0.46280801,  1.29350273],\n",
       "       [ 0.20301726, -0.31430386],\n",
       "       [-0.9383975 , -1.11820715],\n",
       "       [ 1.6297857 ,  1.79966406],\n",
       "       [ 2.10537519, -1.05865876]])"
      ]
     },
     "execution_count": 8,
     "metadata": {},
     "output_type": "execute_result"
    }
   ],
   "source": [
    "X_train"
   ]
  },
  {
   "cell_type": "code",
   "execution_count": 9,
   "metadata": {},
   "outputs": [
    {
     "data": {
      "text/html": [
       "<style>#sk-container-id-1 {color: black;}#sk-container-id-1 pre{padding: 0;}#sk-container-id-1 div.sk-toggleable {background-color: white;}#sk-container-id-1 label.sk-toggleable__label {cursor: pointer;display: block;width: 100%;margin-bottom: 0;padding: 0.3em;box-sizing: border-box;text-align: center;}#sk-container-id-1 label.sk-toggleable__label-arrow:before {content: \"▸\";float: left;margin-right: 0.25em;color: #696969;}#sk-container-id-1 label.sk-toggleable__label-arrow:hover:before {color: black;}#sk-container-id-1 div.sk-estimator:hover label.sk-toggleable__label-arrow:before {color: black;}#sk-container-id-1 div.sk-toggleable__content {max-height: 0;max-width: 0;overflow: hidden;text-align: left;background-color: #f0f8ff;}#sk-container-id-1 div.sk-toggleable__content pre {margin: 0.2em;color: black;border-radius: 0.25em;background-color: #f0f8ff;}#sk-container-id-1 input.sk-toggleable__control:checked~div.sk-toggleable__content {max-height: 200px;max-width: 100%;overflow: auto;}#sk-container-id-1 input.sk-toggleable__control:checked~label.sk-toggleable__label-arrow:before {content: \"▾\";}#sk-container-id-1 div.sk-estimator input.sk-toggleable__control:checked~label.sk-toggleable__label {background-color: #d4ebff;}#sk-container-id-1 div.sk-label input.sk-toggleable__control:checked~label.sk-toggleable__label {background-color: #d4ebff;}#sk-container-id-1 input.sk-hidden--visually {border: 0;clip: rect(1px 1px 1px 1px);clip: rect(1px, 1px, 1px, 1px);height: 1px;margin: -1px;overflow: hidden;padding: 0;position: absolute;width: 1px;}#sk-container-id-1 div.sk-estimator {font-family: monospace;background-color: #f0f8ff;border: 1px dotted black;border-radius: 0.25em;box-sizing: border-box;margin-bottom: 0.5em;}#sk-container-id-1 div.sk-estimator:hover {background-color: #d4ebff;}#sk-container-id-1 div.sk-parallel-item::after {content: \"\";width: 100%;border-bottom: 1px solid gray;flex-grow: 1;}#sk-container-id-1 div.sk-label:hover label.sk-toggleable__label {background-color: #d4ebff;}#sk-container-id-1 div.sk-serial::before {content: \"\";position: absolute;border-left: 1px solid gray;box-sizing: border-box;top: 0;bottom: 0;left: 50%;z-index: 0;}#sk-container-id-1 div.sk-serial {display: flex;flex-direction: column;align-items: center;background-color: white;padding-right: 0.2em;padding-left: 0.2em;position: relative;}#sk-container-id-1 div.sk-item {position: relative;z-index: 1;}#sk-container-id-1 div.sk-parallel {display: flex;align-items: stretch;justify-content: center;background-color: white;position: relative;}#sk-container-id-1 div.sk-item::before, #sk-container-id-1 div.sk-parallel-item::before {content: \"\";position: absolute;border-left: 1px solid gray;box-sizing: border-box;top: 0;bottom: 0;left: 50%;z-index: -1;}#sk-container-id-1 div.sk-parallel-item {display: flex;flex-direction: column;z-index: 1;position: relative;background-color: white;}#sk-container-id-1 div.sk-parallel-item:first-child::after {align-self: flex-end;width: 50%;}#sk-container-id-1 div.sk-parallel-item:last-child::after {align-self: flex-start;width: 50%;}#sk-container-id-1 div.sk-parallel-item:only-child::after {width: 0;}#sk-container-id-1 div.sk-dashed-wrapped {border: 1px dashed gray;margin: 0 0.4em 0.5em 0.4em;box-sizing: border-box;padding-bottom: 0.4em;background-color: white;}#sk-container-id-1 div.sk-label label {font-family: monospace;font-weight: bold;display: inline-block;line-height: 1.2em;}#sk-container-id-1 div.sk-label-container {text-align: center;}#sk-container-id-1 div.sk-container {/* jupyter's `normalize.less` sets `[hidden] { display: none; }` but bootstrap.min.css set `[hidden] { display: none !important; }` so we also need the `!important` here to be able to override the default hidden behavior on the sphinx rendered scikit-learn.org. See: https://github.com/scikit-learn/scikit-learn/issues/21755 */display: inline-block !important;position: relative;}#sk-container-id-1 div.sk-text-repr-fallback {display: none;}</style><div id=\"sk-container-id-1\" class=\"sk-top-container\"><div class=\"sk-text-repr-fallback\"><pre>LogisticRegression()</pre><b>In a Jupyter environment, please rerun this cell to show the HTML representation or trust the notebook. <br />On GitHub, the HTML representation is unable to render, please try loading this page with nbviewer.org.</b></div><div class=\"sk-container\" hidden><div class=\"sk-item\"><div class=\"sk-estimator sk-toggleable\"><input class=\"sk-toggleable__control sk-hidden--visually\" id=\"sk-estimator-id-1\" type=\"checkbox\" checked><label for=\"sk-estimator-id-1\" class=\"sk-toggleable__label sk-toggleable__label-arrow\">LogisticRegression</label><div class=\"sk-toggleable__content\"><pre>LogisticRegression()</pre></div></div></div></div></div>"
      ],
      "text/plain": [
       "LogisticRegression()"
      ]
     },
     "execution_count": 9,
     "metadata": {},
     "output_type": "execute_result"
    }
   ],
   "source": [
    "lr.fit(X_train,Y_train)"
   ]
  },
  {
   "cell_type": "code",
   "execution_count": 10,
   "metadata": {},
   "outputs": [
    {
     "data": {
      "text/plain": [
       "0.85"
      ]
     },
     "execution_count": 10,
     "metadata": {},
     "output_type": "execute_result"
    }
   ],
   "source": [
    "Y_pred=lr.predict(X_test)\n",
    "\n",
    "from sklearn import metrics\n",
    "metrics.accuracy_score(Y_test,Y_pred)"
   ]
  },
  {
   "cell_type": "code",
   "execution_count": 15,
   "metadata": {},
   "outputs": [
    {
     "ename": "SyntaxError",
     "evalue": "cannot assign to literal here. Maybe you meant '==' instead of '='? (1146490064.py, line 3)",
     "output_type": "error",
     "traceback": [
      "\u001b[1;36m  Cell \u001b[1;32mIn[15], line 3\u001b[1;36m\u001b[0m\n\u001b[1;33m    lr.predict(sc.transform([['Age'=30,'salary'=70000]]))\u001b[0m\n\u001b[1;37m                              ^\u001b[0m\n\u001b[1;31mSyntaxError\u001b[0m\u001b[1;31m:\u001b[0m cannot assign to literal here. Maybe you meant '==' instead of '='?\n"
     ]
    }
   ],
   "source": [
    "#from sklearn.preprocessing import StandardScaler\n",
    "#sc=StandardScaler()\n",
    "lr.predict(sc.transform([['Age'=30,'salary'=70000]]))"
   ]
  },
  {
   "cell_type": "code",
   "execution_count": 41,
   "metadata": {},
   "outputs": [],
   "source": [
    "from sklearn.metrics import accuracy_score,confusion_matrix"
   ]
  },
  {
   "cell_type": "code",
   "execution_count": 42,
   "metadata": {},
   "outputs": [],
   "source": [
    "cn=confusion_matrix(Y_test,Y_pred)"
   ]
  },
  {
   "cell_type": "code",
   "execution_count": 43,
   "metadata": {},
   "outputs": [
    {
     "name": "stdout",
     "output_type": "stream",
     "text": [
      "[[53  0]\n",
      " [27  0]]\n"
     ]
    }
   ],
   "source": [
    "print(cn)"
   ]
  },
  {
   "cell_type": "code",
   "execution_count": null,
   "metadata": {},
   "outputs": [],
   "source": []
  }
 ],
 "metadata": {
  "kernelspec": {
   "display_name": "Python 3",
   "language": "python",
   "name": "python3"
  },
  "language_info": {
   "codemirror_mode": {
    "name": "ipython",
    "version": 3
   },
   "file_extension": ".py",
   "mimetype": "text/x-python",
   "name": "python",
   "nbconvert_exporter": "python",
   "pygments_lexer": "ipython3",
   "version": "3.12.0"
  }
 },
 "nbformat": 4,
 "nbformat_minor": 2
}
